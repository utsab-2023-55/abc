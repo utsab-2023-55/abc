{
 "cells": [
  {
   "cell_type": "markdown",
   "id": "20b6f849-d147-4731-a24d-5d215b1b3007",
   "metadata": {},
   "source": [
    "1.Basic (head,tail,describe,info,dtypes) \r\n",
    "Shape of Dataframe \r\n",
    "Check Null values and deal with it \r\n",
    "Drop duplicats \r\n"
   ]
  },
  {
   "cell_type": "code",
   "execution_count": 1,
   "id": "1e3ced24-28d6-42f3-b8c5-28b8e16edda0",
   "metadata": {},
   "outputs": [],
   "source": [
    "import pandas as pd\n",
    "import numpy as np\n",
    "import matplotlib.pyplot as plt\n",
    "import seaborn as sns"
   ]
  },
  {
   "cell_type": "code",
   "execution_count": 2,
   "id": "2c5126e0-ae64-472e-890a-5715aa691df3",
   "metadata": {},
   "outputs": [],
   "source": [
    "matches=pd.read_csv('matches.csv')"
   ]
  },
  {
   "cell_type": "markdown",
   "id": "2c476e41-711c-450a-aadc-69188cd31ce2",
   "metadata": {},
   "source": [
    "First 10 Rows Of Dataframe"
   ]
  },
  {
   "cell_type": "code",
   "execution_count": 3,
   "id": "38088390-1df5-4b93-ba5e-c620e0efce3e",
   "metadata": {},
   "outputs": [
    {
     "data": {
      "text/html": [
       "<div>\n",
       "<style scoped>\n",
       "    .dataframe tbody tr th:only-of-type {\n",
       "        vertical-align: middle;\n",
       "    }\n",
       "\n",
       "    .dataframe tbody tr th {\n",
       "        vertical-align: top;\n",
       "    }\n",
       "\n",
       "    .dataframe thead th {\n",
       "        text-align: right;\n",
       "    }\n",
       "</style>\n",
       "<table border=\"1\" class=\"dataframe\">\n",
       "  <thead>\n",
       "    <tr style=\"text-align: right;\">\n",
       "      <th></th>\n",
       "      <th>id</th>\n",
       "      <th>season</th>\n",
       "      <th>city</th>\n",
       "      <th>date</th>\n",
       "      <th>match_type</th>\n",
       "      <th>player_of_match</th>\n",
       "      <th>venue</th>\n",
       "      <th>team1</th>\n",
       "      <th>team2</th>\n",
       "      <th>toss_winner</th>\n",
       "      <th>toss_decision</th>\n",
       "      <th>winner</th>\n",
       "      <th>result</th>\n",
       "      <th>result_margin</th>\n",
       "      <th>target_runs</th>\n",
       "      <th>target_overs</th>\n",
       "      <th>super_over</th>\n",
       "      <th>method</th>\n",
       "      <th>umpire1</th>\n",
       "      <th>umpire2</th>\n",
       "    </tr>\n",
       "  </thead>\n",
       "  <tbody>\n",
       "    <tr>\n",
       "      <th>0</th>\n",
       "      <td>335982</td>\n",
       "      <td>2007/08</td>\n",
       "      <td>Bangalore</td>\n",
       "      <td>2008-04-18</td>\n",
       "      <td>League</td>\n",
       "      <td>BB McCullum</td>\n",
       "      <td>M Chinnaswamy Stadium</td>\n",
       "      <td>Royal Challengers Bangalore</td>\n",
       "      <td>Kolkata Knight Riders</td>\n",
       "      <td>Royal Challengers Bangalore</td>\n",
       "      <td>field</td>\n",
       "      <td>Kolkata Knight Riders</td>\n",
       "      <td>runs</td>\n",
       "      <td>140.0</td>\n",
       "      <td>223.0</td>\n",
       "      <td>20.0</td>\n",
       "      <td>N</td>\n",
       "      <td>NaN</td>\n",
       "      <td>Asad Rauf</td>\n",
       "      <td>RE Koertzen</td>\n",
       "    </tr>\n",
       "    <tr>\n",
       "      <th>1</th>\n",
       "      <td>335983</td>\n",
       "      <td>2007/08</td>\n",
       "      <td>Chandigarh</td>\n",
       "      <td>2008-04-19</td>\n",
       "      <td>League</td>\n",
       "      <td>MEK Hussey</td>\n",
       "      <td>Punjab Cricket Association Stadium, Mohali</td>\n",
       "      <td>Kings XI Punjab</td>\n",
       "      <td>Chennai Super Kings</td>\n",
       "      <td>Chennai Super Kings</td>\n",
       "      <td>bat</td>\n",
       "      <td>Chennai Super Kings</td>\n",
       "      <td>runs</td>\n",
       "      <td>33.0</td>\n",
       "      <td>241.0</td>\n",
       "      <td>20.0</td>\n",
       "      <td>N</td>\n",
       "      <td>NaN</td>\n",
       "      <td>MR Benson</td>\n",
       "      <td>SL Shastri</td>\n",
       "    </tr>\n",
       "  </tbody>\n",
       "</table>\n",
       "</div>"
      ],
      "text/plain": [
       "       id   season        city        date match_type player_of_match  \\\n",
       "0  335982  2007/08   Bangalore  2008-04-18     League     BB McCullum   \n",
       "1  335983  2007/08  Chandigarh  2008-04-19     League      MEK Hussey   \n",
       "\n",
       "                                        venue                        team1  \\\n",
       "0                       M Chinnaswamy Stadium  Royal Challengers Bangalore   \n",
       "1  Punjab Cricket Association Stadium, Mohali              Kings XI Punjab   \n",
       "\n",
       "                   team2                  toss_winner toss_decision  \\\n",
       "0  Kolkata Knight Riders  Royal Challengers Bangalore         field   \n",
       "1    Chennai Super Kings          Chennai Super Kings           bat   \n",
       "\n",
       "                  winner result  result_margin  target_runs  target_overs  \\\n",
       "0  Kolkata Knight Riders   runs          140.0        223.0          20.0   \n",
       "1    Chennai Super Kings   runs           33.0        241.0          20.0   \n",
       "\n",
       "  super_over method    umpire1      umpire2  \n",
       "0          N    NaN  Asad Rauf  RE Koertzen  \n",
       "1          N    NaN  MR Benson   SL Shastri  "
      ]
     },
     "execution_count": 3,
     "metadata": {},
     "output_type": "execute_result"
    }
   ],
   "source": [
    "matches.head(2)"
   ]
  },
  {
   "cell_type": "markdown",
   "id": "0bc9bf33-7425-4710-a0e6-95cc499aeca8",
   "metadata": {},
   "source": [
    "Shape of The Dataframe"
   ]
  },
  {
   "cell_type": "code",
   "execution_count": 4,
   "id": "71714817-b336-4ecf-a2b4-4316ba2896f1",
   "metadata": {},
   "outputs": [
    {
     "data": {
      "text/plain": [
       "(1095, 20)"
      ]
     },
     "execution_count": 4,
     "metadata": {},
     "output_type": "execute_result"
    }
   ],
   "source": [
    "matches.shape"
   ]
  },
  {
   "cell_type": "markdown",
   "id": "aeb70a7b-e847-4e2d-979b-1df80d9560b4",
   "metadata": {},
   "source": [
    "Columns Name"
   ]
  },
  {
   "cell_type": "code",
   "execution_count": 5,
   "id": "1cd775e5-215e-4097-99ed-f4a23e3e6694",
   "metadata": {},
   "outputs": [
    {
     "data": {
      "text/plain": [
       "Index(['id', 'season', 'city', 'date', 'match_type', 'player_of_match',\n",
       "       'venue', 'team1', 'team2', 'toss_winner', 'toss_decision', 'winner',\n",
       "       'result', 'result_margin', 'target_runs', 'target_overs', 'super_over',\n",
       "       'method', 'umpire1', 'umpire2'],\n",
       "      dtype='object')"
      ]
     },
     "execution_count": 5,
     "metadata": {},
     "output_type": "execute_result"
    }
   ],
   "source": [
    "matches.columns"
   ]
  },
  {
   "cell_type": "markdown",
   "id": "2db01851-9e00-4cc7-84ec-3480289f9f1f",
   "metadata": {},
   "source": [
    "Datatypes of Each Columns"
   ]
  },
  {
   "cell_type": "code",
   "execution_count": 6,
   "id": "3f904a54-f2b8-4c18-b9da-6e857763f0f5",
   "metadata": {},
   "outputs": [
    {
     "data": {
      "text/plain": [
       "id                   int64\n",
       "season              object\n",
       "city                object\n",
       "date                object\n",
       "match_type          object\n",
       "player_of_match     object\n",
       "venue               object\n",
       "team1               object\n",
       "team2               object\n",
       "toss_winner         object\n",
       "toss_decision       object\n",
       "winner              object\n",
       "result              object\n",
       "result_margin      float64\n",
       "target_runs        float64\n",
       "target_overs       float64\n",
       "super_over          object\n",
       "method              object\n",
       "umpire1             object\n",
       "umpire2             object\n",
       "dtype: object"
      ]
     },
     "execution_count": 6,
     "metadata": {},
     "output_type": "execute_result"
    }
   ],
   "source": [
    "matches.dtypes"
   ]
  },
  {
   "cell_type": "markdown",
   "id": "814d8d62-d0bd-4a68-a83b-ae803248db9c",
   "metadata": {},
   "source": [
    "Null Values in Every Columns"
   ]
  },
  {
   "cell_type": "code",
   "execution_count": 7,
   "id": "a2c0623a-d7c6-4efc-9319-1ee7d3d8469b",
   "metadata": {},
   "outputs": [
    {
     "data": {
      "text/plain": [
       "id                    0\n",
       "season                0\n",
       "city                 51\n",
       "date                  0\n",
       "match_type            0\n",
       "player_of_match       5\n",
       "venue                 0\n",
       "team1                 0\n",
       "team2                 0\n",
       "toss_winner           0\n",
       "toss_decision         0\n",
       "winner                5\n",
       "result                0\n",
       "result_margin        19\n",
       "target_runs           3\n",
       "target_overs          3\n",
       "super_over            0\n",
       "method             1074\n",
       "umpire1               0\n",
       "umpire2               0\n",
       "dtype: int64"
      ]
     },
     "execution_count": 7,
     "metadata": {},
     "output_type": "execute_result"
    }
   ],
   "source": [
    "matches.isnull().sum()"
   ]
  },
  {
   "cell_type": "markdown",
   "id": "bfebea70-2f67-4422-b5c5-2b6928dacec7",
   "metadata": {},
   "source": [
    "Deal With Null Values"
   ]
  },
  {
   "cell_type": "code",
   "execution_count": 8,
   "id": "196784ea-ea85-494e-9737-0a20a6d46f37",
   "metadata": {},
   "outputs": [],
   "source": [
    "matches_null_city=matches.loc[matches.city.isnull()==True]"
   ]
  },
  {
   "cell_type": "code",
   "execution_count": 9,
   "id": "379b07ea-fb38-440e-b5ee-9fe6d5e60560",
   "metadata": {
    "scrolled": true
   },
   "outputs": [
    {
     "data": {
      "text/html": [
       "<div>\n",
       "<style scoped>\n",
       "    .dataframe tbody tr th:only-of-type {\n",
       "        vertical-align: middle;\n",
       "    }\n",
       "\n",
       "    .dataframe tbody tr th {\n",
       "        vertical-align: top;\n",
       "    }\n",
       "\n",
       "    .dataframe thead th {\n",
       "        text-align: right;\n",
       "    }\n",
       "</style>\n",
       "<table border=\"1\" class=\"dataframe\">\n",
       "  <thead>\n",
       "    <tr style=\"text-align: right;\">\n",
       "      <th></th>\n",
       "      <th>id</th>\n",
       "      <th>season</th>\n",
       "      <th>city</th>\n",
       "      <th>date</th>\n",
       "      <th>match_type</th>\n",
       "      <th>player_of_match</th>\n",
       "      <th>venue</th>\n",
       "      <th>team1</th>\n",
       "      <th>team2</th>\n",
       "      <th>toss_winner</th>\n",
       "      <th>toss_decision</th>\n",
       "      <th>winner</th>\n",
       "      <th>result</th>\n",
       "      <th>result_margin</th>\n",
       "      <th>target_runs</th>\n",
       "      <th>target_overs</th>\n",
       "      <th>super_over</th>\n",
       "      <th>method</th>\n",
       "      <th>umpire1</th>\n",
       "      <th>umpire2</th>\n",
       "    </tr>\n",
       "  </thead>\n",
       "  <tbody>\n",
       "    <tr>\n",
       "      <th>399</th>\n",
       "      <td>729281</td>\n",
       "      <td>2014</td>\n",
       "      <td>NaN</td>\n",
       "      <td>2014-04-17</td>\n",
       "      <td>League</td>\n",
       "      <td>YS Chahal</td>\n",
       "      <td>Sharjah Cricket Stadium</td>\n",
       "      <td>Delhi Daredevils</td>\n",
       "      <td>Royal Challengers Bangalore</td>\n",
       "      <td>Royal Challengers Bangalore</td>\n",
       "      <td>field</td>\n",
       "      <td>Royal Challengers Bangalore</td>\n",
       "      <td>wickets</td>\n",
       "      <td>8.0</td>\n",
       "      <td>146.0</td>\n",
       "      <td>20.0</td>\n",
       "      <td>N</td>\n",
       "      <td>NaN</td>\n",
       "      <td>Aleem Dar</td>\n",
       "      <td>S Ravi</td>\n",
       "    </tr>\n",
       "    <tr>\n",
       "      <th>402</th>\n",
       "      <td>729287</td>\n",
       "      <td>2014</td>\n",
       "      <td>NaN</td>\n",
       "      <td>2014-04-19</td>\n",
       "      <td>League</td>\n",
       "      <td>PA Patel</td>\n",
       "      <td>Dubai International Cricket Stadium</td>\n",
       "      <td>Royal Challengers Bangalore</td>\n",
       "      <td>Mumbai Indians</td>\n",
       "      <td>Royal Challengers Bangalore</td>\n",
       "      <td>field</td>\n",
       "      <td>Royal Challengers Bangalore</td>\n",
       "      <td>wickets</td>\n",
       "      <td>7.0</td>\n",
       "      <td>116.0</td>\n",
       "      <td>20.0</td>\n",
       "      <td>N</td>\n",
       "      <td>NaN</td>\n",
       "      <td>Aleem Dar</td>\n",
       "      <td>AK Chaudhary</td>\n",
       "    </tr>\n",
       "  </tbody>\n",
       "</table>\n",
       "</div>"
      ],
      "text/plain": [
       "         id season city        date match_type player_of_match  \\\n",
       "399  729281   2014  NaN  2014-04-17     League       YS Chahal   \n",
       "402  729287   2014  NaN  2014-04-19     League        PA Patel   \n",
       "\n",
       "                                   venue                        team1  \\\n",
       "399              Sharjah Cricket Stadium             Delhi Daredevils   \n",
       "402  Dubai International Cricket Stadium  Royal Challengers Bangalore   \n",
       "\n",
       "                           team2                  toss_winner toss_decision  \\\n",
       "399  Royal Challengers Bangalore  Royal Challengers Bangalore         field   \n",
       "402               Mumbai Indians  Royal Challengers Bangalore         field   \n",
       "\n",
       "                          winner   result  result_margin  target_runs  \\\n",
       "399  Royal Challengers Bangalore  wickets            8.0        146.0   \n",
       "402  Royal Challengers Bangalore  wickets            7.0        116.0   \n",
       "\n",
       "     target_overs super_over method    umpire1       umpire2  \n",
       "399          20.0          N    NaN  Aleem Dar        S Ravi  \n",
       "402          20.0          N    NaN  Aleem Dar  AK Chaudhary  "
      ]
     },
     "execution_count": 9,
     "metadata": {},
     "output_type": "execute_result"
    }
   ],
   "source": [
    "matches_null_city.head(2)"
   ]
  },
  {
   "cell_type": "code",
   "execution_count": 10,
   "id": "fb4ce6c3-d95d-4ef2-9961-c032706c07de",
   "metadata": {},
   "outputs": [
    {
     "data": {
      "text/plain": [
       "venue\n",
       "Dubai International Cricket Stadium    33\n",
       "Sharjah Cricket Stadium                18\n",
       "Name: count, dtype: int64"
      ]
     },
     "execution_count": 10,
     "metadata": {},
     "output_type": "execute_result"
    }
   ],
   "source": [
    "matches_null_city.venue.value_counts()"
   ]
  },
  {
   "cell_type": "code",
   "execution_count": 11,
   "id": "3ea4abef-7a63-4b8b-8509-173d9416540b",
   "metadata": {},
   "outputs": [],
   "source": [
    "def city_null(row):\n",
    "    if row.venue=='Dubai International Cricket Stadium':\n",
    "        return 'Dubai'\n",
    "    elif row.venue=='Sharjah Cricket Stadium':\n",
    "        return 'Sharjah'\n",
    "    else:\n",
    "        return row.city"
   ]
  },
  {
   "cell_type": "code",
   "execution_count": 12,
   "id": "15ce3001-5565-4eff-b1d9-88c76b803af8",
   "metadata": {},
   "outputs": [],
   "source": [
    "matches['city']=matches.apply(city_null,axis=1)"
   ]
  },
  {
   "cell_type": "code",
   "execution_count": 13,
   "id": "3b5df2a7-7148-45c1-8ee1-064d37d6022b",
   "metadata": {},
   "outputs": [
    {
     "data": {
      "text/plain": [
       "0"
      ]
     },
     "execution_count": 13,
     "metadata": {},
     "output_type": "execute_result"
    }
   ],
   "source": [
    "matches.city.isnull().sum()"
   ]
  },
  {
   "cell_type": "code",
   "execution_count": 14,
   "id": "6a4b28f8-4d8f-45b6-8383-937736ba8465",
   "metadata": {},
   "outputs": [
    {
     "data": {
      "text/plain": [
       "method\n",
       "D/L    21\n",
       "Name: count, dtype: int64"
      ]
     },
     "execution_count": 14,
     "metadata": {},
     "output_type": "execute_result"
    }
   ],
   "source": [
    "matches['method'].value_counts()"
   ]
  },
  {
   "cell_type": "code",
   "execution_count": 15,
   "id": "0562cd29-07d4-4af1-b0b0-d7f1156e6861",
   "metadata": {},
   "outputs": [],
   "source": [
    "matches.fillna({'method': 'No'},inplace=True)"
   ]
  },
  {
   "cell_type": "code",
   "execution_count": 16,
   "id": "999494eb-7757-49bd-b2bf-981176bbcaf1",
   "metadata": {},
   "outputs": [
    {
     "data": {
      "text/plain": [
       "0"
      ]
     },
     "execution_count": 16,
     "metadata": {},
     "output_type": "execute_result"
    }
   ],
   "source": [
    "matches['method'].isnull().sum()"
   ]
  },
  {
   "cell_type": "markdown",
   "id": "21acb6f5-cf4b-4fe5-b2fc-831a7bc3f67e",
   "metadata": {},
   "source": [
    "Deal With Duplicate"
   ]
  },
  {
   "cell_type": "code",
   "execution_count": 17,
   "id": "e26019b4-82cc-45e5-9895-f1c8e67e7cdc",
   "metadata": {},
   "outputs": [
    {
     "data": {
      "text/plain": [
       "0"
      ]
     },
     "execution_count": 17,
     "metadata": {},
     "output_type": "execute_result"
    }
   ],
   "source": [
    "matches.duplicated().sum()"
   ]
  },
  {
   "cell_type": "markdown",
   "id": "62b9e873-d514-45f2-aef6-5c6669607c83",
   "metadata": {},
   "source": [
    "2.Show dataframe for every year and do basic operation,shape of dataframe(take year input from user) "
   ]
  },
  {
   "cell_type": "code",
   "execution_count": 18,
   "id": "498d5a83-d19d-4d04-8b74-d8cab93d0511",
   "metadata": {},
   "outputs": [],
   "source": [
    "matches_copy=matches"
   ]
  },
  {
   "cell_type": "code",
   "execution_count": 19,
   "id": "acca9f16-b2a0-4f4b-ac52-ec55a7f3981b",
   "metadata": {},
   "outputs": [
    {
     "data": {
      "text/html": [
       "<div>\n",
       "<style scoped>\n",
       "    .dataframe tbody tr th:only-of-type {\n",
       "        vertical-align: middle;\n",
       "    }\n",
       "\n",
       "    .dataframe tbody tr th {\n",
       "        vertical-align: top;\n",
       "    }\n",
       "\n",
       "    .dataframe thead th {\n",
       "        text-align: right;\n",
       "    }\n",
       "</style>\n",
       "<table border=\"1\" class=\"dataframe\">\n",
       "  <thead>\n",
       "    <tr style=\"text-align: right;\">\n",
       "      <th></th>\n",
       "      <th>id</th>\n",
       "      <th>season</th>\n",
       "      <th>city</th>\n",
       "      <th>date</th>\n",
       "      <th>match_type</th>\n",
       "      <th>player_of_match</th>\n",
       "      <th>venue</th>\n",
       "      <th>team1</th>\n",
       "      <th>team2</th>\n",
       "      <th>toss_winner</th>\n",
       "      <th>toss_decision</th>\n",
       "      <th>winner</th>\n",
       "      <th>result</th>\n",
       "      <th>result_margin</th>\n",
       "      <th>target_runs</th>\n",
       "      <th>target_overs</th>\n",
       "      <th>super_over</th>\n",
       "      <th>method</th>\n",
       "      <th>umpire1</th>\n",
       "      <th>umpire2</th>\n",
       "    </tr>\n",
       "  </thead>\n",
       "  <tbody>\n",
       "    <tr>\n",
       "      <th>0</th>\n",
       "      <td>335982</td>\n",
       "      <td>2007/08</td>\n",
       "      <td>Bangalore</td>\n",
       "      <td>2008-04-18</td>\n",
       "      <td>League</td>\n",
       "      <td>BB McCullum</td>\n",
       "      <td>M Chinnaswamy Stadium</td>\n",
       "      <td>Royal Challengers Bangalore</td>\n",
       "      <td>Kolkata Knight Riders</td>\n",
       "      <td>Royal Challengers Bangalore</td>\n",
       "      <td>field</td>\n",
       "      <td>Kolkata Knight Riders</td>\n",
       "      <td>runs</td>\n",
       "      <td>140.0</td>\n",
       "      <td>223.0</td>\n",
       "      <td>20.0</td>\n",
       "      <td>N</td>\n",
       "      <td>No</td>\n",
       "      <td>Asad Rauf</td>\n",
       "      <td>RE Koertzen</td>\n",
       "    </tr>\n",
       "  </tbody>\n",
       "</table>\n",
       "</div>"
      ],
      "text/plain": [
       "       id   season       city        date match_type player_of_match  \\\n",
       "0  335982  2007/08  Bangalore  2008-04-18     League     BB McCullum   \n",
       "\n",
       "                   venue                        team1                  team2  \\\n",
       "0  M Chinnaswamy Stadium  Royal Challengers Bangalore  Kolkata Knight Riders   \n",
       "\n",
       "                   toss_winner toss_decision                 winner result  \\\n",
       "0  Royal Challengers Bangalore         field  Kolkata Knight Riders   runs   \n",
       "\n",
       "   result_margin  target_runs  target_overs super_over method    umpire1  \\\n",
       "0          140.0        223.0          20.0          N     No  Asad Rauf   \n",
       "\n",
       "       umpire2  \n",
       "0  RE Koertzen  "
      ]
     },
     "execution_count": 19,
     "metadata": {},
     "output_type": "execute_result"
    }
   ],
   "source": [
    "matches_copy.head(1)"
   ]
  },
  {
   "cell_type": "code",
   "execution_count": 20,
   "id": "ac42a651-c3ad-4087-8387-73cf2f91fca3",
   "metadata": {},
   "outputs": [],
   "source": [
    "import datetime"
   ]
  },
  {
   "cell_type": "code",
   "execution_count": 21,
   "id": "bf38a49b-02a5-434e-abbb-062a81939097",
   "metadata": {},
   "outputs": [],
   "source": [
    "matches_copy['date']=pd.to_datetime(matches['date'])\n",
    "matches_copy['year']=matches_copy['date'].dt.year\n",
    "matches_copy['month']=matches_copy['date'].dt.month\n",
    "matches_copy['day']=matches_copy['date'].dt.day"
   ]
  },
  {
   "cell_type": "code",
   "execution_count": 22,
   "id": "071500fc-6cbf-44f9-840e-dc65a7e858a9",
   "metadata": {},
   "outputs": [
    {
     "data": {
      "text/html": [
       "<div>\n",
       "<style scoped>\n",
       "    .dataframe tbody tr th:only-of-type {\n",
       "        vertical-align: middle;\n",
       "    }\n",
       "\n",
       "    .dataframe tbody tr th {\n",
       "        vertical-align: top;\n",
       "    }\n",
       "\n",
       "    .dataframe thead th {\n",
       "        text-align: right;\n",
       "    }\n",
       "</style>\n",
       "<table border=\"1\" class=\"dataframe\">\n",
       "  <thead>\n",
       "    <tr style=\"text-align: right;\">\n",
       "      <th></th>\n",
       "      <th>id</th>\n",
       "      <th>season</th>\n",
       "      <th>city</th>\n",
       "      <th>date</th>\n",
       "      <th>match_type</th>\n",
       "      <th>player_of_match</th>\n",
       "      <th>venue</th>\n",
       "      <th>team1</th>\n",
       "      <th>team2</th>\n",
       "      <th>toss_winner</th>\n",
       "      <th>...</th>\n",
       "      <th>result_margin</th>\n",
       "      <th>target_runs</th>\n",
       "      <th>target_overs</th>\n",
       "      <th>super_over</th>\n",
       "      <th>method</th>\n",
       "      <th>umpire1</th>\n",
       "      <th>umpire2</th>\n",
       "      <th>year</th>\n",
       "      <th>month</th>\n",
       "      <th>day</th>\n",
       "    </tr>\n",
       "  </thead>\n",
       "  <tbody>\n",
       "    <tr>\n",
       "      <th>0</th>\n",
       "      <td>335982</td>\n",
       "      <td>2007/08</td>\n",
       "      <td>Bangalore</td>\n",
       "      <td>2008-04-18</td>\n",
       "      <td>League</td>\n",
       "      <td>BB McCullum</td>\n",
       "      <td>M Chinnaswamy Stadium</td>\n",
       "      <td>Royal Challengers Bangalore</td>\n",
       "      <td>Kolkata Knight Riders</td>\n",
       "      <td>Royal Challengers Bangalore</td>\n",
       "      <td>...</td>\n",
       "      <td>140.0</td>\n",
       "      <td>223.0</td>\n",
       "      <td>20.0</td>\n",
       "      <td>N</td>\n",
       "      <td>No</td>\n",
       "      <td>Asad Rauf</td>\n",
       "      <td>RE Koertzen</td>\n",
       "      <td>2008</td>\n",
       "      <td>4</td>\n",
       "      <td>18</td>\n",
       "    </tr>\n",
       "  </tbody>\n",
       "</table>\n",
       "<p>1 rows × 23 columns</p>\n",
       "</div>"
      ],
      "text/plain": [
       "       id   season       city       date match_type player_of_match  \\\n",
       "0  335982  2007/08  Bangalore 2008-04-18     League     BB McCullum   \n",
       "\n",
       "                   venue                        team1                  team2  \\\n",
       "0  M Chinnaswamy Stadium  Royal Challengers Bangalore  Kolkata Knight Riders   \n",
       "\n",
       "                   toss_winner  ... result_margin target_runs target_overs  \\\n",
       "0  Royal Challengers Bangalore  ...         140.0       223.0         20.0   \n",
       "\n",
       "   super_over  method    umpire1      umpire2  year month day  \n",
       "0           N      No  Asad Rauf  RE Koertzen  2008     4  18  \n",
       "\n",
       "[1 rows x 23 columns]"
      ]
     },
     "execution_count": 22,
     "metadata": {},
     "output_type": "execute_result"
    }
   ],
   "source": [
    "matches_copy.head(1)"
   ]
  },
  {
   "cell_type": "code",
   "execution_count": 23,
   "id": "6c1751a1-05a2-484a-8757-0cf2c1292820",
   "metadata": {},
   "outputs": [
    {
     "data": {
      "text/plain": [
       "year\n",
       "2008    58\n",
       "2009    57\n",
       "2010    60\n",
       "2011    73\n",
       "2012    74\n",
       "2013    76\n",
       "2014    60\n",
       "2015    59\n",
       "2016    60\n",
       "2017    59\n",
       "2018    60\n",
       "2019    60\n",
       "2020    60\n",
       "2021    60\n",
       "2022    74\n",
       "2023    74\n",
       "2024    71\n",
       "Name: count, dtype: int64"
      ]
     },
     "execution_count": 23,
     "metadata": {},
     "output_type": "execute_result"
    }
   ],
   "source": [
    "matches_copy.year.value_counts().sort_index()"
   ]
  },
  {
   "cell_type": "code",
   "execution_count": 24,
   "id": "821b489e-d007-40b0-add1-7ab43517c5d0",
   "metadata": {},
   "outputs": [],
   "source": [
    "def basic_oper_yearwise():\n",
    "    try:\n",
    "        Year=int(input('Year='))\n",
    "    except ValueError:\n",
    "        print('Give integer input between 2008 to 2024')\n",
    "        basic_oper_yearwise()\n",
    "    else:\n",
    "        if 2008<=Year<=2024:\n",
    "            print(f'\\033[1mHEAD OF THE DATASET ON YEAR {Year}:-\\033[0m')\n",
    "            display(matches_copy.loc[matches_copy['year']==Year].head(2))\n",
    "            print(f'\\033[1mTAIL OF THE DATASET ON YEAR {Year}:-\\033[0m')\n",
    "            display(matches_copy.loc[matches_copy['year']==Year].tail(2))\n",
    "            print('\\033[1mALL COLUMNS NAME:-\\033[0m')\n",
    "            display(matches_copy.columns)\n",
    "            print(f'\\033[1mSHAPE OF THE DATASET FOR YEAR {Year}:-\\033[0m')\n",
    "            display(matches_copy.loc[matches_copy['year']==Year].shape)\n",
    "            print(f'\\033[1mDESCRIBE ABOUT THE DATASET ON YEAR {Year}:-\\033[0m')\n",
    "            display(matches_copy.loc[matches_copy['year']==Year].describe())\n",
    "            print(f'\\033[1mINFORMATION ABOUT THE DATASET ON YEAR {Year}:-\\033[0m')\n",
    "            display(matches_copy.loc[matches_copy['year']==Year].info())\n",
    "        else:\n",
    "            print('Give input between 2008 to 2024')\n",
    "            basic_oper_yearwise()"
   ]
  },
  {
   "cell_type": "code",
   "execution_count": 25,
   "id": "b1c5a2e6-7e68-460c-a746-689a630cc4b6",
   "metadata": {},
   "outputs": [
    {
     "name": "stdin",
     "output_type": "stream",
     "text": [
      "Year= 2008\n"
     ]
    },
    {
     "name": "stdout",
     "output_type": "stream",
     "text": [
      "\u001b[1mHEAD OF THE DATASET ON YEAR 2008:-\u001b[0m\n"
     ]
    },
    {
     "data": {
      "text/html": [
       "<div>\n",
       "<style scoped>\n",
       "    .dataframe tbody tr th:only-of-type {\n",
       "        vertical-align: middle;\n",
       "    }\n",
       "\n",
       "    .dataframe tbody tr th {\n",
       "        vertical-align: top;\n",
       "    }\n",
       "\n",
       "    .dataframe thead th {\n",
       "        text-align: right;\n",
       "    }\n",
       "</style>\n",
       "<table border=\"1\" class=\"dataframe\">\n",
       "  <thead>\n",
       "    <tr style=\"text-align: right;\">\n",
       "      <th></th>\n",
       "      <th>id</th>\n",
       "      <th>season</th>\n",
       "      <th>city</th>\n",
       "      <th>date</th>\n",
       "      <th>match_type</th>\n",
       "      <th>player_of_match</th>\n",
       "      <th>venue</th>\n",
       "      <th>team1</th>\n",
       "      <th>team2</th>\n",
       "      <th>toss_winner</th>\n",
       "      <th>...</th>\n",
       "      <th>result_margin</th>\n",
       "      <th>target_runs</th>\n",
       "      <th>target_overs</th>\n",
       "      <th>super_over</th>\n",
       "      <th>method</th>\n",
       "      <th>umpire1</th>\n",
       "      <th>umpire2</th>\n",
       "      <th>year</th>\n",
       "      <th>month</th>\n",
       "      <th>day</th>\n",
       "    </tr>\n",
       "  </thead>\n",
       "  <tbody>\n",
       "    <tr>\n",
       "      <th>0</th>\n",
       "      <td>335982</td>\n",
       "      <td>2007/08</td>\n",
       "      <td>Bangalore</td>\n",
       "      <td>2008-04-18</td>\n",
       "      <td>League</td>\n",
       "      <td>BB McCullum</td>\n",
       "      <td>M Chinnaswamy Stadium</td>\n",
       "      <td>Royal Challengers Bangalore</td>\n",
       "      <td>Kolkata Knight Riders</td>\n",
       "      <td>Royal Challengers Bangalore</td>\n",
       "      <td>...</td>\n",
       "      <td>140.0</td>\n",
       "      <td>223.0</td>\n",
       "      <td>20.0</td>\n",
       "      <td>N</td>\n",
       "      <td>No</td>\n",
       "      <td>Asad Rauf</td>\n",
       "      <td>RE Koertzen</td>\n",
       "      <td>2008</td>\n",
       "      <td>4</td>\n",
       "      <td>18</td>\n",
       "    </tr>\n",
       "    <tr>\n",
       "      <th>1</th>\n",
       "      <td>335983</td>\n",
       "      <td>2007/08</td>\n",
       "      <td>Chandigarh</td>\n",
       "      <td>2008-04-19</td>\n",
       "      <td>League</td>\n",
       "      <td>MEK Hussey</td>\n",
       "      <td>Punjab Cricket Association Stadium, Mohali</td>\n",
       "      <td>Kings XI Punjab</td>\n",
       "      <td>Chennai Super Kings</td>\n",
       "      <td>Chennai Super Kings</td>\n",
       "      <td>...</td>\n",
       "      <td>33.0</td>\n",
       "      <td>241.0</td>\n",
       "      <td>20.0</td>\n",
       "      <td>N</td>\n",
       "      <td>No</td>\n",
       "      <td>MR Benson</td>\n",
       "      <td>SL Shastri</td>\n",
       "      <td>2008</td>\n",
       "      <td>4</td>\n",
       "      <td>19</td>\n",
       "    </tr>\n",
       "  </tbody>\n",
       "</table>\n",
       "<p>2 rows × 23 columns</p>\n",
       "</div>"
      ],
      "text/plain": [
       "       id   season        city       date match_type player_of_match  \\\n",
       "0  335982  2007/08   Bangalore 2008-04-18     League     BB McCullum   \n",
       "1  335983  2007/08  Chandigarh 2008-04-19     League      MEK Hussey   \n",
       "\n",
       "                                        venue                        team1  \\\n",
       "0                       M Chinnaswamy Stadium  Royal Challengers Bangalore   \n",
       "1  Punjab Cricket Association Stadium, Mohali              Kings XI Punjab   \n",
       "\n",
       "                   team2                  toss_winner  ... result_margin  \\\n",
       "0  Kolkata Knight Riders  Royal Challengers Bangalore  ...         140.0   \n",
       "1    Chennai Super Kings          Chennai Super Kings  ...          33.0   \n",
       "\n",
       "  target_runs target_overs  super_over  method    umpire1      umpire2  year  \\\n",
       "0       223.0         20.0           N      No  Asad Rauf  RE Koertzen  2008   \n",
       "1       241.0         20.0           N      No  MR Benson   SL Shastri  2008   \n",
       "\n",
       "  month day  \n",
       "0     4  18  \n",
       "1     4  19  \n",
       "\n",
       "[2 rows x 23 columns]"
      ]
     },
     "metadata": {},
     "output_type": "display_data"
    },
    {
     "name": "stdout",
     "output_type": "stream",
     "text": [
      "\u001b[1mTAIL OF THE DATASET ON YEAR 2008:-\u001b[0m\n"
     ]
    },
    {
     "data": {
      "text/html": [
       "<div>\n",
       "<style scoped>\n",
       "    .dataframe tbody tr th:only-of-type {\n",
       "        vertical-align: middle;\n",
       "    }\n",
       "\n",
       "    .dataframe tbody tr th {\n",
       "        vertical-align: top;\n",
       "    }\n",
       "\n",
       "    .dataframe thead th {\n",
       "        text-align: right;\n",
       "    }\n",
       "</style>\n",
       "<table border=\"1\" class=\"dataframe\">\n",
       "  <thead>\n",
       "    <tr style=\"text-align: right;\">\n",
       "      <th></th>\n",
       "      <th>id</th>\n",
       "      <th>season</th>\n",
       "      <th>city</th>\n",
       "      <th>date</th>\n",
       "      <th>match_type</th>\n",
       "      <th>player_of_match</th>\n",
       "      <th>venue</th>\n",
       "      <th>team1</th>\n",
       "      <th>team2</th>\n",
       "      <th>toss_winner</th>\n",
       "      <th>...</th>\n",
       "      <th>result_margin</th>\n",
       "      <th>target_runs</th>\n",
       "      <th>target_overs</th>\n",
       "      <th>super_over</th>\n",
       "      <th>method</th>\n",
       "      <th>umpire1</th>\n",
       "      <th>umpire2</th>\n",
       "      <th>year</th>\n",
       "      <th>month</th>\n",
       "      <th>day</th>\n",
       "    </tr>\n",
       "  </thead>\n",
       "  <tbody>\n",
       "    <tr>\n",
       "      <th>56</th>\n",
       "      <td>336039</td>\n",
       "      <td>2007/08</td>\n",
       "      <td>Mumbai</td>\n",
       "      <td>2008-05-31</td>\n",
       "      <td>Semi Final</td>\n",
       "      <td>M Ntini</td>\n",
       "      <td>Wankhede Stadium</td>\n",
       "      <td>Chennai Super Kings</td>\n",
       "      <td>Kings XI Punjab</td>\n",
       "      <td>Kings XI Punjab</td>\n",
       "      <td>...</td>\n",
       "      <td>9.0</td>\n",
       "      <td>113.0</td>\n",
       "      <td>20.0</td>\n",
       "      <td>N</td>\n",
       "      <td>No</td>\n",
       "      <td>Asad Rauf</td>\n",
       "      <td>DJ Harper</td>\n",
       "      <td>2008</td>\n",
       "      <td>5</td>\n",
       "      <td>31</td>\n",
       "    </tr>\n",
       "    <tr>\n",
       "      <th>57</th>\n",
       "      <td>336040</td>\n",
       "      <td>2007/08</td>\n",
       "      <td>Mumbai</td>\n",
       "      <td>2008-06-01</td>\n",
       "      <td>Final</td>\n",
       "      <td>YK Pathan</td>\n",
       "      <td>Dr DY Patil Sports Academy</td>\n",
       "      <td>Chennai Super Kings</td>\n",
       "      <td>Rajasthan Royals</td>\n",
       "      <td>Rajasthan Royals</td>\n",
       "      <td>...</td>\n",
       "      <td>3.0</td>\n",
       "      <td>164.0</td>\n",
       "      <td>20.0</td>\n",
       "      <td>N</td>\n",
       "      <td>No</td>\n",
       "      <td>BF Bowden</td>\n",
       "      <td>RE Koertzen</td>\n",
       "      <td>2008</td>\n",
       "      <td>6</td>\n",
       "      <td>1</td>\n",
       "    </tr>\n",
       "  </tbody>\n",
       "</table>\n",
       "<p>2 rows × 23 columns</p>\n",
       "</div>"
      ],
      "text/plain": [
       "        id   season    city       date  match_type player_of_match  \\\n",
       "56  336039  2007/08  Mumbai 2008-05-31  Semi Final         M Ntini   \n",
       "57  336040  2007/08  Mumbai 2008-06-01       Final       YK Pathan   \n",
       "\n",
       "                         venue                team1             team2  \\\n",
       "56            Wankhede Stadium  Chennai Super Kings   Kings XI Punjab   \n",
       "57  Dr DY Patil Sports Academy  Chennai Super Kings  Rajasthan Royals   \n",
       "\n",
       "         toss_winner  ... result_margin target_runs target_overs  super_over  \\\n",
       "56   Kings XI Punjab  ...           9.0       113.0         20.0           N   \n",
       "57  Rajasthan Royals  ...           3.0       164.0         20.0           N   \n",
       "\n",
       "    method    umpire1      umpire2  year month day  \n",
       "56      No  Asad Rauf    DJ Harper  2008     5  31  \n",
       "57      No  BF Bowden  RE Koertzen  2008     6   1  \n",
       "\n",
       "[2 rows x 23 columns]"
      ]
     },
     "metadata": {},
     "output_type": "display_data"
    },
    {
     "name": "stdout",
     "output_type": "stream",
     "text": [
      "\u001b[1mALL COLUMNS NAME:-\u001b[0m\n"
     ]
    },
    {
     "data": {
      "text/plain": [
       "Index(['id', 'season', 'city', 'date', 'match_type', 'player_of_match',\n",
       "       'venue', 'team1', 'team2', 'toss_winner', 'toss_decision', 'winner',\n",
       "       'result', 'result_margin', 'target_runs', 'target_overs', 'super_over',\n",
       "       'method', 'umpire1', 'umpire2', 'year', 'month', 'day'],\n",
       "      dtype='object')"
      ]
     },
     "metadata": {},
     "output_type": "display_data"
    },
    {
     "name": "stdout",
     "output_type": "stream",
     "text": [
      "\u001b[1mSHAPE OF THE DATASET FOR YEAR 2008:-\u001b[0m\n"
     ]
    },
    {
     "data": {
      "text/plain": [
       "(58, 23)"
      ]
     },
     "metadata": {},
     "output_type": "display_data"
    },
    {
     "name": "stdout",
     "output_type": "stream",
     "text": [
      "\u001b[1mDESCRIBE ABOUT THE DATASET ON YEAR 2008:-\u001b[0m\n"
     ]
    },
    {
     "data": {
      "text/html": [
       "<div>\n",
       "<style scoped>\n",
       "    .dataframe tbody tr th:only-of-type {\n",
       "        vertical-align: middle;\n",
       "    }\n",
       "\n",
       "    .dataframe tbody tr th {\n",
       "        vertical-align: top;\n",
       "    }\n",
       "\n",
       "    .dataframe thead th {\n",
       "        text-align: right;\n",
       "    }\n",
       "</style>\n",
       "<table border=\"1\" class=\"dataframe\">\n",
       "  <thead>\n",
       "    <tr style=\"text-align: right;\">\n",
       "      <th></th>\n",
       "      <th>id</th>\n",
       "      <th>date</th>\n",
       "      <th>result_margin</th>\n",
       "      <th>target_runs</th>\n",
       "      <th>target_overs</th>\n",
       "      <th>year</th>\n",
       "      <th>month</th>\n",
       "      <th>day</th>\n",
       "    </tr>\n",
       "  </thead>\n",
       "  <tbody>\n",
       "    <tr>\n",
       "      <th>count</th>\n",
       "      <td>58.000000</td>\n",
       "      <td>58</td>\n",
       "      <td>58.000000</td>\n",
       "      <td>58.000000</td>\n",
       "      <td>58.000000</td>\n",
       "      <td>58.0</td>\n",
       "      <td>58.000000</td>\n",
       "      <td>58.000000</td>\n",
       "    </tr>\n",
       "    <tr>\n",
       "      <th>mean</th>\n",
       "      <td>336010.672414</td>\n",
       "      <td>2008-05-09 03:43:26.896551680</td>\n",
       "      <td>15.965517</td>\n",
       "      <td>159.775862</td>\n",
       "      <td>19.482759</td>\n",
       "      <td>2008.0</td>\n",
       "      <td>4.724138</td>\n",
       "      <td>17.413793</td>\n",
       "    </tr>\n",
       "    <tr>\n",
       "      <th>min</th>\n",
       "      <td>335982.000000</td>\n",
       "      <td>2008-04-18 00:00:00</td>\n",
       "      <td>1.000000</td>\n",
       "      <td>53.000000</td>\n",
       "      <td>8.000000</td>\n",
       "      <td>2008.0</td>\n",
       "      <td>4.000000</td>\n",
       "      <td>1.000000</td>\n",
       "    </tr>\n",
       "    <tr>\n",
       "      <th>25%</th>\n",
       "      <td>335996.250000</td>\n",
       "      <td>2008-04-28 06:00:00</td>\n",
       "      <td>5.000000</td>\n",
       "      <td>138.750000</td>\n",
       "      <td>20.000000</td>\n",
       "      <td>2008.0</td>\n",
       "      <td>4.000000</td>\n",
       "      <td>10.250000</td>\n",
       "    </tr>\n",
       "    <tr>\n",
       "      <th>50%</th>\n",
       "      <td>336010.500000</td>\n",
       "      <td>2008-05-08 12:00:00</td>\n",
       "      <td>8.000000</td>\n",
       "      <td>161.000000</td>\n",
       "      <td>20.000000</td>\n",
       "      <td>2008.0</td>\n",
       "      <td>5.000000</td>\n",
       "      <td>19.000000</td>\n",
       "    </tr>\n",
       "    <tr>\n",
       "      <th>75%</th>\n",
       "      <td>336024.750000</td>\n",
       "      <td>2008-05-19 18:00:00</td>\n",
       "      <td>11.500000</td>\n",
       "      <td>182.750000</td>\n",
       "      <td>20.000000</td>\n",
       "      <td>2008.0</td>\n",
       "      <td>5.000000</td>\n",
       "      <td>25.000000</td>\n",
       "    </tr>\n",
       "    <tr>\n",
       "      <th>max</th>\n",
       "      <td>336040.000000</td>\n",
       "      <td>2008-06-01 00:00:00</td>\n",
       "      <td>140.000000</td>\n",
       "      <td>241.000000</td>\n",
       "      <td>20.000000</td>\n",
       "      <td>2008.0</td>\n",
       "      <td>6.000000</td>\n",
       "      <td>31.000000</td>\n",
       "    </tr>\n",
       "    <tr>\n",
       "      <th>std</th>\n",
       "      <td>17.138638</td>\n",
       "      <td>NaN</td>\n",
       "      <td>24.619893</td>\n",
       "      <td>37.373902</td>\n",
       "      <td>2.265232</td>\n",
       "      <td>0.0</td>\n",
       "      <td>0.488216</td>\n",
       "      <td>8.973713</td>\n",
       "    </tr>\n",
       "  </tbody>\n",
       "</table>\n",
       "</div>"
      ],
      "text/plain": [
       "                  id                           date  result_margin  \\\n",
       "count      58.000000                             58      58.000000   \n",
       "mean   336010.672414  2008-05-09 03:43:26.896551680      15.965517   \n",
       "min    335982.000000            2008-04-18 00:00:00       1.000000   \n",
       "25%    335996.250000            2008-04-28 06:00:00       5.000000   \n",
       "50%    336010.500000            2008-05-08 12:00:00       8.000000   \n",
       "75%    336024.750000            2008-05-19 18:00:00      11.500000   \n",
       "max    336040.000000            2008-06-01 00:00:00     140.000000   \n",
       "std        17.138638                            NaN      24.619893   \n",
       "\n",
       "       target_runs  target_overs    year      month        day  \n",
       "count    58.000000     58.000000    58.0  58.000000  58.000000  \n",
       "mean    159.775862     19.482759  2008.0   4.724138  17.413793  \n",
       "min      53.000000      8.000000  2008.0   4.000000   1.000000  \n",
       "25%     138.750000     20.000000  2008.0   4.000000  10.250000  \n",
       "50%     161.000000     20.000000  2008.0   5.000000  19.000000  \n",
       "75%     182.750000     20.000000  2008.0   5.000000  25.000000  \n",
       "max     241.000000     20.000000  2008.0   6.000000  31.000000  \n",
       "std      37.373902      2.265232     0.0   0.488216   8.973713  "
      ]
     },
     "metadata": {},
     "output_type": "display_data"
    },
    {
     "name": "stdout",
     "output_type": "stream",
     "text": [
      "\u001b[1mINFORMATION ABOUT THE DATASET ON YEAR 2008:-\u001b[0m\n",
      "<class 'pandas.core.frame.DataFrame'>\n",
      "Index: 58 entries, 0 to 57\n",
      "Data columns (total 23 columns):\n",
      " #   Column           Non-Null Count  Dtype         \n",
      "---  ------           --------------  -----         \n",
      " 0   id               58 non-null     int64         \n",
      " 1   season           58 non-null     object        \n",
      " 2   city             58 non-null     object        \n",
      " 3   date             58 non-null     datetime64[ns]\n",
      " 4   match_type       58 non-null     object        \n",
      " 5   player_of_match  58 non-null     object        \n",
      " 6   venue            58 non-null     object        \n",
      " 7   team1            58 non-null     object        \n",
      " 8   team2            58 non-null     object        \n",
      " 9   toss_winner      58 non-null     object        \n",
      " 10  toss_decision    58 non-null     object        \n",
      " 11  winner           58 non-null     object        \n",
      " 12  result           58 non-null     object        \n",
      " 13  result_margin    58 non-null     float64       \n",
      " 14  target_runs      58 non-null     float64       \n",
      " 15  target_overs     58 non-null     float64       \n",
      " 16  super_over       58 non-null     object        \n",
      " 17  method           58 non-null     object        \n",
      " 18  umpire1          58 non-null     object        \n",
      " 19  umpire2          58 non-null     object        \n",
      " 20  year             58 non-null     int32         \n",
      " 21  month            58 non-null     int32         \n",
      " 22  day              58 non-null     int32         \n",
      "dtypes: datetime64[ns](1), float64(3), int32(3), int64(1), object(15)\n",
      "memory usage: 10.2+ KB\n"
     ]
    },
    {
     "data": {
      "text/plain": [
       "None"
      ]
     },
     "metadata": {},
     "output_type": "display_data"
    }
   ],
   "source": [
    "basic_oper_yearwise()"
   ]
  },
  {
   "cell_type": "markdown",
   "id": "abb3aa49-da7f-4c89-a677-3b65acc1da96",
   "metadata": {},
   "source": [
    "3.How many time a team play playoff "
   ]
  },
  {
   "cell_type": "code",
   "execution_count": 26,
   "id": "22813fc6-ae9a-40aa-a38f-9a3e40deb705",
   "metadata": {},
   "outputs": [
    {
     "data": {
      "text/plain": [
       "match_type\n",
       "League                1029\n",
       "Final                   17\n",
       "Qualifier 1             14\n",
       "Qualifier 2             14\n",
       "Eliminator              11\n",
       "Semi Final               6\n",
       "Elimination Final        3\n",
       "3rd Place Play-Off       1\n",
       "Name: count, dtype: int64"
      ]
     },
     "execution_count": 26,
     "metadata": {},
     "output_type": "execute_result"
    }
   ],
   "source": [
    "matches_copy.match_type.value_counts()"
   ]
  },
  {
   "cell_type": "code",
   "execution_count": 27,
   "id": "db6c934c-0376-4e1e-a19e-391ad1c7484b",
   "metadata": {},
   "outputs": [],
   "source": [
    "matches_copy.replace(to_replace='Elimination Final',value='Eliminator',inplace=True)"
   ]
  },
  {
   "cell_type": "code",
   "execution_count": 28,
   "id": "8ec756ed-4136-4e7d-9316-f8c19900e4ba",
   "metadata": {},
   "outputs": [
    {
     "data": {
      "text/plain": [
       "match_type\n",
       "League                1029\n",
       "Final                   17\n",
       "Qualifier 1             14\n",
       "Eliminator              14\n",
       "Qualifier 2             14\n",
       "Semi Final               6\n",
       "3rd Place Play-Off       1\n",
       "Name: count, dtype: int64"
      ]
     },
     "execution_count": 28,
     "metadata": {},
     "output_type": "execute_result"
    }
   ],
   "source": [
    "matches_copy.match_type.value_counts()"
   ]
  },
  {
   "cell_type": "code",
   "execution_count": 29,
   "id": "9d3c894a-df09-42b8-a72b-76bb921db44d",
   "metadata": {},
   "outputs": [],
   "source": [
    "playoff_match_team1=matches_copy.loc[(matches_copy.match_type=='Semi Final') | (matches_copy.match_type=='Qualifier 1') | \\\n",
    "    (matches_copy.match_type=='Eliminator')].loc[:,['year','team1']]\n",
    "playoff_match_team1['team']=playoff_match_team1['team1']\n",
    "playoff_match_team1.drop('team1',axis=1,inplace=True)\n",
    "playoff_match_team2=matches_copy.loc[(matches_copy.match_type=='Semi Final') | (matches_copy.match_type=='Qualifier 1') | \\\n",
    "    (matches_copy.match_type=='Eliminator')].loc[:,['year','team2']]\n",
    "playoff_match_team2['team']=playoff_match_team2['team2']\n",
    "playoff_match_team2.drop('team2',axis=1,inplace=True)\n",
    "playoff_match_team=pd.concat([playoff_match_team1,playoff_match_team2],ignore_index=True)"
   ]
  },
  {
   "cell_type": "code",
   "execution_count": 30,
   "id": "10b24b23-c558-40d2-a84c-95acfe0c45cb",
   "metadata": {},
   "outputs": [],
   "source": [
    "def playoff_team():\n",
    "    Year=input('Year=')\n",
    "    if Year.lower()=='all':\n",
    "        sns.countplot(data=playoff_match_team,y='team',orient='h')\n",
    "    else:\n",
    "        try:\n",
    "            Year=int(Year)\n",
    "        except ValueError:\n",
    "            print('Give input years betwween 2008 to 2024 or all')\n",
    "            playoff_team()\n",
    "        else:\n",
    "            if(2008<=Year<=2024):\n",
    "                sns.countplot(data=playoff_match_team.loc[playoff_match_team['year']==Year],y='team',orient='h')\n",
    "            else:\n",
    "                print('Give input between 2008 to 2024')\n",
    "                playoff_team()\n",
    "    return "
   ]
  },
  {
   "cell_type": "code",
   "execution_count": 31,
   "id": "46d0dcdd-21e7-4f10-9b36-f89394ac0ec9",
   "metadata": {},
   "outputs": [
    {
     "name": "stdin",
     "output_type": "stream",
     "text": [
      "Year= all\n"
     ]
    },
    {
     "data": {
      "image/png": "[encoded data removed]",
      "text/plain": [
       "<Figure size 640x480 with 1 Axes>"
      ]
     },
     "metadata": {},
     "output_type": "display_data"
    }
   ],
   "source": [
    "playoff_team()"
   ]
  },
  {
   "cell_type": "markdown",
   "id": "ef34cc84-225a-4260-96e5-873d43dcd33d",
   "metadata": {},
   "source": [
    "4.How many time a team play final "
   ]
  },
  {
   "cell_type": "code",
   "execution_count": 32,
   "id": "2c94c61b-c3f8-4db4-8036-a184c19e79b2",
   "metadata": {},
   "outputs": [
    {
     "data": {
      "text/plain": [
       "match_type\n",
       "League                1029\n",
       "Final                   17\n",
       "Qualifier 1             14\n",
       "Eliminator              14\n",
       "Qualifier 2             14\n",
       "Semi Final               6\n",
       "3rd Place Play-Off       1\n",
       "Name: count, dtype: int64"
      ]
     },
     "execution_count": 32,
     "metadata": {},
     "output_type": "execute_result"
    }
   ],
   "source": [
    "matches_copy.match_type.value_counts()"
   ]
  },
  {
   "cell_type": "code",
   "execution_count": 33,
   "id": "a75fc001-78fb-4595-87ce-c583bc62fe62",
   "metadata": {},
   "outputs": [],
   "source": [
    "final_match_team1=matches_copy.loc[matches_copy.match_type=='Final'].loc[:,['year','team1']]\n",
    "final_match_team2=matches_copy.loc[matches_copy.match_type=='Final'].loc[:,['year','team2']]\n",
    "final_match_team1['team']=final_match_team1['team1']\n",
    "final_match_team1.drop('team1',axis=1,inplace=True)\n",
    "final_match_team2['team']=final_match_team2['team2']\n",
    "final_match_team2.drop('team2',axis=1,inplace=True)\n",
    "final_match_team=pd.concat([final_match_team1,final_match_team2],ignore_index=True)"
   ]
  },
  {
   "cell_type": "code",
   "execution_count": 34,
   "id": "1605ad0c-e8d9-4995-b747-4c7d1f7360c6",
   "metadata": {},
   "outputs": [],
   "source": [
    "def final_team():\n",
    "    Year=input('Year=')\n",
    "    if Year.lower()=='all':\n",
    "        sns.countplot(data=final_match_team,y='team',orient='h')\n",
    "    else:\n",
    "        try:\n",
    "            Year=int(Year)\n",
    "        except ValueError:\n",
    "            print('Choose all or integer year between 2008 to 2024')\n",
    "            final_team()\n",
    "        else:\n",
    "            if 2008<=Year<=2024:\n",
    "                sns.countplot(data=final_match_team.loc[final_match_team.year==Year],y='team',orient='h')\n",
    "            else:\n",
    "                print('Give input between 2008 to 2024')\n",
    "                final_team()"
   ]
  },
  {
   "cell_type": "code",
   "execution_count": 35,
   "id": "ca0788e0-e6ef-4fa5-bae7-66dc017d642e",
   "metadata": {},
   "outputs": [
    {
     "name": "stdin",
     "output_type": "stream",
     "text": [
      "Year= all\n"
     ]
    },
    {
     "data": {
      "image/png": "[encoded data removed]",
      "text/plain": [
       "<Figure size 640x480 with 1 Axes>"
      ]
     },
     "metadata": {},
     "output_type": "display_data"
    }
   ],
   "source": [
    "final_team()"
   ]
  },
  {
   "cell_type": "markdown",
   "id": "f6d44fd9-df5c-40a3-a0b2-03cfe9475030",
   "metadata": {},
   "source": [
    "5.How many time a team win final "
   ]
  },
  {
   "cell_type": "code",
   "execution_count": 36,
   "id": "33f70b59-1e3f-4589-9639-09e9ef79e9d8",
   "metadata": {},
   "outputs": [],
   "source": [
    "final_winner_team=matches_copy.loc[matches_copy.match_type=='Final'].loc[:,['year','winner']]\n",
    "final_winner_team['index']=final_winner_team['year']\n",
    "final_winner_team.set_index('index',inplace=True)"
   ]
  },
  {
   "cell_type": "code",
   "execution_count": 37,
   "id": "2e557507-3e1e-4508-b197-3b2ac8ccf29d",
   "metadata": {},
   "outputs": [],
   "source": [
    "def final_winner():\n",
    "    Year=input('Year=')\n",
    "    if Year.lower()=='all':\n",
    "        sns.countplot(data=final_winner_team,y='winner',orient='h')\n",
    "    else:\n",
    "        try:\n",
    "            Year=int(Year)\n",
    "        except ValueError:\n",
    "            print('Choose all or integer year between 2008 to 2024')\n",
    "            final_winner()\n",
    "        else:\n",
    "            if 2008<=Year<=2024:\n",
    "                winner=final_winner_team.loc[2014,'winner']\n",
    "                print(f'Year {Year} champion is {winner}')\n",
    "            else:\n",
    "                print('Give input between 2008 to 2024')\n",
    "                final_winner()"
   ]
  },
  {
   "cell_type": "code",
   "execution_count": 38,
   "id": "db901f38-3862-410c-8aa2-f86f0d88791c",
   "metadata": {},
   "outputs": [
    {
     "name": "stdin",
     "output_type": "stream",
     "text": [
      "Year= all\n"
     ]
    },
    {
     "data": {
      "image/png": "[encoded data removed]",
      "text/plain": [
       "<Figure size 640x480 with 1 Axes>"
      ]
     },
     "metadata": {},
     "output_type": "display_data"
    }
   ],
   "source": [
    "final_winner()"
   ]
  },
  {
   "cell_type": "markdown",
   "id": "18f7e729-84c7-426f-979f-bc4e07c2a888",
   "metadata": {},
   "source": [
    "6.city wise player of the match "
   ]
  },
  {
   "cell_type": "code",
   "execution_count": 39,
   "id": "33baf90a-89cd-463c-9263-b43fb847e43d",
   "metadata": {},
   "outputs": [
    {
     "data": {
      "text/plain": [
       "city\n",
       "Mumbai            173\n",
       "Kolkata            93\n",
       "Delhi              90\n",
       "Chennai            85\n",
       "Hyderabad          77\n",
       "Bangalore          65\n",
       "Chandigarh         61\n",
       "Jaipur             57\n",
       "Pune               51\n",
       "Dubai              46\n",
       "Abu Dhabi          37\n",
       "Ahmedabad          36\n",
       "Bengaluru          29\n",
       "Sharjah            28\n",
       "Durban             15\n",
       "Visakhapatnam      15\n",
       "Lucknow            14\n",
       "Dharamsala         13\n",
       "Centurion          12\n",
       "Rajkot             10\n",
       "Indore              9\n",
       "Navi Mumbai         9\n",
       "Johannesburg        8\n",
       "Cuttack             7\n",
       "Port Elizabeth      7\n",
       "Ranchi              7\n",
       "Cape Town           7\n",
       "Raipur              6\n",
       "Mohali              5\n",
       "Kochi               5\n",
       "Kanpur              4\n",
       "Kimberley           3\n",
       "East London         3\n",
       "Guwahati            3\n",
       "Nagpur              3\n",
       "Bloemfontein        2\n",
       "Name: count, dtype: int64"
      ]
     },
     "execution_count": 39,
     "metadata": {},
     "output_type": "execute_result"
    }
   ],
   "source": [
    "matches_copy.city.value_counts()"
   ]
  },
  {
   "cell_type": "code",
   "execution_count": 40,
   "id": "5abdeab8-1667-4bfc-ae5c-d34c907cf55e",
   "metadata": {},
   "outputs": [],
   "source": [
    "def city_wise_mvp():\n",
    "    Set=set(matches_copy['city'])\n",
    "    for st in Set:\n",
    "        print(st,end=',')\n",
    "    City=input('City=')\n",
    "    if City in Set:\n",
    "        height=max(0,min(1000,len(matches_copy.loc[matches_copy.city==City]['city'].value_counts())*10))\n",
    "        plt.figure(figsize=(10,height))\n",
    "        sns.countplot(data=matches_copy.loc[matches_copy.city==City],y='player_of_match',orient='h')\n",
    "    else:\n",
    "        print('\\033[1mChoose city from the above list\\033[0m')\n",
    "        city_wise_mvp()"
   ]
  },
  {
   "cell_type": "code",
   "execution_count": 41,
   "id": "9c6e9b79-4ea5-4205-9864-423077242f4a",
   "metadata": {},
   "outputs": [
    {
     "name": "stdout",
     "output_type": "stream",
     "text": [
      "Visakhapatnam,Chandigarh,Chennai,Indore,Abu Dhabi,Pune,Johannesburg,Hyderabad,Kimberley,Rajkot,Ahmedabad,Bangalore,Cape Town,Delhi,Centurion,Lucknow,Guwahati,Port Elizabeth,Mohali,Kanpur,Ranchi,Raipur,Sharjah,Kochi,Navi Mumbai,Cuttack,East London,Dharamsala,Kolkata,Bloemfontein,Mumbai,Durban,Dubai,Jaipur,Nagpur,Bengaluru,"
     ]
    },
    {
     "name": "stdin",
     "output_type": "stream",
     "text": [
      "City= Kolkata\n"
     ]
    },
    {
     "data": {
      "image/png": "[encoded data removed]",
      "text/plain": [
       "<Figure size 1000x1000 with 1 Axes>"
      ]
     },
     "metadata": {},
     "output_type": "display_data"
    }
   ],
   "source": [
    "city_wise_mvp()"
   ]
  },
  {
   "cell_type": "markdown",
   "id": "2e2124e6-4f79-4a01-ad0e-ded0334b871c",
   "metadata": {},
   "source": [
    "7.Year wise player of the match"
   ]
  },
  {
   "cell_type": "code",
   "execution_count": 42,
   "id": "8edf2082-0068-497d-97ef-dcf7335fadef",
   "metadata": {},
   "outputs": [],
   "source": [
    "def year_wise_mvp():\n",
    "    Year=input('Year=')\n",
    "    if Year.lower()=='all':\n",
    "        height=max(5,min(50,len(matches_copy['player_of_match'].value_counts()*10)))\n",
    "        plt.figure(figsize=(10,height))\n",
    "        sns.countplot(data=matches_copy,y='player_of_match',orient='h',gap=0)\n",
    "    else:\n",
    "        try:\n",
    "            Year=int(Year)\n",
    "        except ValueError:\n",
    "            print('\\033[1mChoose between all or year 2008 to 2024\\033[0m')\n",
    "            year_wise_mvp()\n",
    "        else:\n",
    "            if 2008<=Year<=2024:\n",
    "                height=max(5,min(20,len(matches_copy.loc[matches_copy['year']==Year]['player_of_match'].value_counts()*10)))\n",
    "                plt.figure(figsize=(10,height))\n",
    "                sns.countplot(data=matches_copy.loc[matches_copy['year']==Year],y='player_of_match',orient='h')\n",
    "            else:\n",
    "                print('\\033[1mChoose between all or year 2008 to 2024\\033[0m')\n",
    "                year_wise_mvp()"
   ]
  },
  {
   "cell_type": "code",
   "execution_count": 43,
   "id": "2ffaf00b-8278-4047-8a45-849a0f3541e0",
   "metadata": {},
   "outputs": [
    {
     "name": "stdin",
     "output_type": "stream",
     "text": [
      "Year= 2014\n"
     ]
    },
    {
     "data": {
      "image/png": "[encoded data removed]",
      "text/plain": [
       "<Figure size 1000x2000 with 1 Axes>"
      ]
     },
     "metadata": {},
     "output_type": "display_data"
    }
   ],
   "source": [
    "year_wise_mvp()"
   ]
  },
  {
   "cell_type": "markdown",
   "id": "3e69043f-9de9-46d1-8d75-645ef2ff7e81",
   "metadata": {},
   "source": [
    "8.Year wise percentage of winning toss by a team "
   ]
  },
  {
   "cell_type": "code",
   "execution_count": 44,
   "id": "c3da3494-46fe-46ee-9cdf-0f242243416e",
   "metadata": {},
   "outputs": [],
   "source": [
    "winning_toss_team1=matches_copy.loc[:,['year','team1','toss_winner']]\n",
    "winning_toss_team2=matches_copy.loc[:,['year','team2','toss_winner']]\n",
    "winning_toss_team1['team']=winning_toss_team1['team1']\n",
    "winning_toss_team2['team']=winning_toss_team2['team2']\n",
    "winning_toss_team1.drop('team1',axis=1,inplace=True)\n",
    "winning_toss_team2.drop('team2',axis=1,inplace=True)\n",
    "winning_toss_team=pd.concat([winning_toss_team1,winning_toss_team2],ignore_index=True)"
   ]
  },
  {
   "cell_type": "code",
   "execution_count": 45,
   "id": "d504956f-59c2-4a45-8ccb-ff7f51e88e83",
   "metadata": {},
   "outputs": [
    {
     "data": {
      "text/html": [
       "<div>\n",
       "<style scoped>\n",
       "    .dataframe tbody tr th:only-of-type {\n",
       "        vertical-align: middle;\n",
       "    }\n",
       "\n",
       "    .dataframe tbody tr th {\n",
       "        vertical-align: top;\n",
       "    }\n",
       "\n",
       "    .dataframe thead th {\n",
       "        text-align: right;\n",
       "    }\n",
       "</style>\n",
       "<table border=\"1\" class=\"dataframe\">\n",
       "  <thead>\n",
       "    <tr style=\"text-align: right;\">\n",
       "      <th></th>\n",
       "      <th>year</th>\n",
       "      <th>toss_winner</th>\n",
       "      <th>team</th>\n",
       "    </tr>\n",
       "  </thead>\n",
       "  <tbody>\n",
       "    <tr>\n",
       "      <th>0</th>\n",
       "      <td>2008</td>\n",
       "      <td>Royal Challengers Bangalore</td>\n",
       "      <td>Royal Challengers Bangalore</td>\n",
       "    </tr>\n",
       "    <tr>\n",
       "      <th>1</th>\n",
       "      <td>2008</td>\n",
       "      <td>Chennai Super Kings</td>\n",
       "      <td>Kings XI Punjab</td>\n",
       "    </tr>\n",
       "    <tr>\n",
       "      <th>2</th>\n",
       "      <td>2008</td>\n",
       "      <td>Rajasthan Royals</td>\n",
       "      <td>Delhi Daredevils</td>\n",
       "    </tr>\n",
       "    <tr>\n",
       "      <th>3</th>\n",
       "      <td>2008</td>\n",
       "      <td>Mumbai Indians</td>\n",
       "      <td>Mumbai Indians</td>\n",
       "    </tr>\n",
       "    <tr>\n",
       "      <th>4</th>\n",
       "      <td>2008</td>\n",
       "      <td>Deccan Chargers</td>\n",
       "      <td>Kolkata Knight Riders</td>\n",
       "    </tr>\n",
       "    <tr>\n",
       "      <th>...</th>\n",
       "      <td>...</td>\n",
       "      <td>...</td>\n",
       "      <td>...</td>\n",
       "    </tr>\n",
       "    <tr>\n",
       "      <th>2185</th>\n",
       "      <td>2024</td>\n",
       "      <td>Punjab Kings</td>\n",
       "      <td>Sunrisers Hyderabad</td>\n",
       "    </tr>\n",
       "    <tr>\n",
       "      <th>2186</th>\n",
       "      <td>2024</td>\n",
       "      <td>Sunrisers Hyderabad</td>\n",
       "      <td>Kolkata Knight Riders</td>\n",
       "    </tr>\n",
       "    <tr>\n",
       "      <th>2187</th>\n",
       "      <td>2024</td>\n",
       "      <td>Rajasthan Royals</td>\n",
       "      <td>Rajasthan Royals</td>\n",
       "    </tr>\n",
       "    <tr>\n",
       "      <th>2188</th>\n",
       "      <td>2024</td>\n",
       "      <td>Rajasthan Royals</td>\n",
       "      <td>Rajasthan Royals</td>\n",
       "    </tr>\n",
       "    <tr>\n",
       "      <th>2189</th>\n",
       "      <td>2024</td>\n",
       "      <td>Sunrisers Hyderabad</td>\n",
       "      <td>Kolkata Knight Riders</td>\n",
       "    </tr>\n",
       "  </tbody>\n",
       "</table>\n",
       "<p>2190 rows × 3 columns</p>\n",
       "</div>"
      ],
      "text/plain": [
       "      year                  toss_winner                         team\n",
       "0     2008  Royal Challengers Bangalore  Royal Challengers Bangalore\n",
       "1     2008          Chennai Super Kings              Kings XI Punjab\n",
       "2     2008             Rajasthan Royals             Delhi Daredevils\n",
       "3     2008               Mumbai Indians               Mumbai Indians\n",
       "4     2008              Deccan Chargers        Kolkata Knight Riders\n",
       "...    ...                          ...                          ...\n",
       "2185  2024                 Punjab Kings          Sunrisers Hyderabad\n",
       "2186  2024          Sunrisers Hyderabad        Kolkata Knight Riders\n",
       "2187  2024             Rajasthan Royals             Rajasthan Royals\n",
       "2188  2024             Rajasthan Royals             Rajasthan Royals\n",
       "2189  2024          Sunrisers Hyderabad        Kolkata Knight Riders\n",
       "\n",
       "[2190 rows x 3 columns]"
      ]
     },
     "execution_count": 45,
     "metadata": {},
     "output_type": "execute_result"
    }
   ],
   "source": [
    "winning_toss_team"
   ]
  },
  {
   "cell_type": "code",
   "execution_count": 46,
   "id": "9684e0be-b952-4a0f-8fbc-31d2bbb7f851",
   "metadata": {},
   "outputs": [
    {
     "data": {
      "text/html": [
       "<div>\n",
       "<style scoped>\n",
       "    .dataframe tbody tr th:only-of-type {\n",
       "        vertical-align: middle;\n",
       "    }\n",
       "\n",
       "    .dataframe tbody tr th {\n",
       "        vertical-align: top;\n",
       "    }\n",
       "\n",
       "    .dataframe thead th {\n",
       "        text-align: right;\n",
       "    }\n",
       "</style>\n",
       "<table border=\"1\" class=\"dataframe\">\n",
       "  <thead>\n",
       "    <tr style=\"text-align: right;\">\n",
       "      <th></th>\n",
       "      <th>year</th>\n",
       "      <th>toss_winner</th>\n",
       "      <th>team</th>\n",
       "    </tr>\n",
       "  </thead>\n",
       "  <tbody>\n",
       "    <tr>\n",
       "      <th>5</th>\n",
       "      <td>2008</td>\n",
       "      <td>Kings XI Punjab</td>\n",
       "      <td>Rajasthan Royals</td>\n",
       "    </tr>\n",
       "    <tr>\n",
       "      <th>17</th>\n",
       "      <td>2008</td>\n",
       "      <td>Kings XI Punjab</td>\n",
       "      <td>Deccan Chargers</td>\n",
       "    </tr>\n",
       "    <tr>\n",
       "      <th>20</th>\n",
       "      <td>2008</td>\n",
       "      <td>Kings XI Punjab</td>\n",
       "      <td>Kings XI Punjab</td>\n",
       "    </tr>\n",
       "    <tr>\n",
       "      <th>24</th>\n",
       "      <td>2008</td>\n",
       "      <td>Kings XI Punjab</td>\n",
       "      <td>Royal Challengers Bangalore</td>\n",
       "    </tr>\n",
       "    <tr>\n",
       "      <th>30</th>\n",
       "      <td>2008</td>\n",
       "      <td>Kings XI Punjab</td>\n",
       "      <td>Chennai Super Kings</td>\n",
       "    </tr>\n",
       "    <tr>\n",
       "      <th>46</th>\n",
       "      <td>2008</td>\n",
       "      <td>Kings XI Punjab</td>\n",
       "      <td>Kings XI Punjab</td>\n",
       "    </tr>\n",
       "    <tr>\n",
       "      <th>50</th>\n",
       "      <td>2008</td>\n",
       "      <td>Kings XI Punjab</td>\n",
       "      <td>Kolkata Knight Riders</td>\n",
       "    </tr>\n",
       "    <tr>\n",
       "      <th>56</th>\n",
       "      <td>2008</td>\n",
       "      <td>Kings XI Punjab</td>\n",
       "      <td>Chennai Super Kings</td>\n",
       "    </tr>\n",
       "    <tr>\n",
       "      <th>1100</th>\n",
       "      <td>2008</td>\n",
       "      <td>Kings XI Punjab</td>\n",
       "      <td>Kings XI Punjab</td>\n",
       "    </tr>\n",
       "    <tr>\n",
       "      <th>1112</th>\n",
       "      <td>2008</td>\n",
       "      <td>Kings XI Punjab</td>\n",
       "      <td>Kings XI Punjab</td>\n",
       "    </tr>\n",
       "    <tr>\n",
       "      <th>1115</th>\n",
       "      <td>2008</td>\n",
       "      <td>Kings XI Punjab</td>\n",
       "      <td>Kolkata Knight Riders</td>\n",
       "    </tr>\n",
       "    <tr>\n",
       "      <th>1119</th>\n",
       "      <td>2008</td>\n",
       "      <td>Kings XI Punjab</td>\n",
       "      <td>Kings XI Punjab</td>\n",
       "    </tr>\n",
       "    <tr>\n",
       "      <th>1125</th>\n",
       "      <td>2008</td>\n",
       "      <td>Kings XI Punjab</td>\n",
       "      <td>Kings XI Punjab</td>\n",
       "    </tr>\n",
       "    <tr>\n",
       "      <th>1141</th>\n",
       "      <td>2008</td>\n",
       "      <td>Kings XI Punjab</td>\n",
       "      <td>Deccan Chargers</td>\n",
       "    </tr>\n",
       "    <tr>\n",
       "      <th>1145</th>\n",
       "      <td>2008</td>\n",
       "      <td>Kings XI Punjab</td>\n",
       "      <td>Kings XI Punjab</td>\n",
       "    </tr>\n",
       "    <tr>\n",
       "      <th>1151</th>\n",
       "      <td>2008</td>\n",
       "      <td>Kings XI Punjab</td>\n",
       "      <td>Kings XI Punjab</td>\n",
       "    </tr>\n",
       "  </tbody>\n",
       "</table>\n",
       "</div>"
      ],
      "text/plain": [
       "      year      toss_winner                         team\n",
       "5     2008  Kings XI Punjab             Rajasthan Royals\n",
       "17    2008  Kings XI Punjab              Deccan Chargers\n",
       "20    2008  Kings XI Punjab              Kings XI Punjab\n",
       "24    2008  Kings XI Punjab  Royal Challengers Bangalore\n",
       "30    2008  Kings XI Punjab          Chennai Super Kings\n",
       "46    2008  Kings XI Punjab              Kings XI Punjab\n",
       "50    2008  Kings XI Punjab        Kolkata Knight Riders\n",
       "56    2008  Kings XI Punjab          Chennai Super Kings\n",
       "1100  2008  Kings XI Punjab              Kings XI Punjab\n",
       "1112  2008  Kings XI Punjab              Kings XI Punjab\n",
       "1115  2008  Kings XI Punjab        Kolkata Knight Riders\n",
       "1119  2008  Kings XI Punjab              Kings XI Punjab\n",
       "1125  2008  Kings XI Punjab              Kings XI Punjab\n",
       "1141  2008  Kings XI Punjab              Deccan Chargers\n",
       "1145  2008  Kings XI Punjab              Kings XI Punjab\n",
       "1151  2008  Kings XI Punjab              Kings XI Punjab"
      ]
     },
     "execution_count": 46,
     "metadata": {},
     "output_type": "execute_result"
    }
   ],
   "source": [
    "winning_toss_team.loc[(winning_toss_team['toss_winner']=='Kings XI Punjab') & (winning_toss_team['year']==2008)]"
   ]
  },
  {
   "cell_type": "code",
   "execution_count": 47,
   "id": "f2b75ffa-8ec7-4145-b0ab-94fa2af552e9",
   "metadata": {},
   "outputs": [
    {
     "data": {
      "text/plain": [
       "team1\n",
       "Chennai Super Kings            9\n",
       "Royal Challengers Bangalore    7\n",
       "Kings XI Punjab                7\n",
       "Delhi Daredevils               7\n",
       "Mumbai Indians                 7\n",
       "Kolkata Knight Riders          7\n",
       "Rajasthan Royals               7\n",
       "Deccan Chargers                7\n",
       "Name: count, dtype: int64"
      ]
     },
     "execution_count": 47,
     "metadata": {},
     "output_type": "execute_result"
    }
   ],
   "source": [
    "matches_copy.loc[matches_copy.year==2008]['team1'].value_counts()"
   ]
  },
  {
   "cell_type": "code",
   "execution_count": 53,
   "id": "71920a03-064e-4443-9222-e43d6cd91e8f",
   "metadata": {},
   "outputs": [],
   "source": [
    "def year_wise_winning_toss(Year=None):\n",
    "    if Year==None:\n",
    "        Year=input('Year=')\n",
    "    else:\n",
    "        Year=str(Year)\n",
    "    if Year.lower()=='all':\n",
    "        Set=set(winning_toss_team['team'])\n",
    "        for st in Set:\n",
    "            print(st,end=',')\n",
    "        Team=input('Team=')\n",
    "        if Team in Set:\n",
    "            z=len(matches_copy.loc[((matches_copy['team1']==Team) | (matches_copy['team2']==Team)) & (matches_copy['toss_winner']==Team)])/\\\n",
    "              len(matches_copy.loc[((matches_copy['team1']==Team) | (matches_copy['team2']==Team))])*100\n",
    "            plt.pie(x=[z,100-z],labels=['Yes','No'],autopct='%1.1f%%')\n",
    "        else:\n",
    "            print('Choose Team from the above list')\n",
    "            year_wise_winning_toss(Year)\n",
    "    else:\n",
    "        try:\n",
    "            Year=int(Year) \n",
    "        except ValueError:\n",
    "            print('Choose between all or 2008 to 2024')\n",
    "            year_wise_winning_toss()\n",
    "        else:\n",
    "            if 2008<=Year<2024:\n",
    "                Set=set(winning_toss_team.loc[winning_toss_team['year']==Year]['team'])\n",
    "                for st in Set:\n",
    "                    print(st,end=',')\n",
    "                Team=input('Team=')    \n",
    "                if Team in Set:\n",
    "                    y=len(matches_copy.loc[((matches_copy['team1']==Team) | (matches_copy['team2']==Team)) & (matches_copy['toss_winner']==Team) & \\\n",
    "                      (matches_copy['year']==Year)])/len(matches_copy.loc[((matches_copy['team1']==Team) | (matches_copy['team2']==Team)) & \\\n",
    "                      (matches_copy['year']==Year)])*100\n",
    "                    plt.pie(x=[y,100-y],labels=['Yes','No'],autopct='%1.1f%%')\n",
    "                else:\n",
    "                    print('Choose Team from the above list')\n",
    "                    year_wise_winning_toss(Year)\n",
    "            else:\n",
    "                print('Choose between all or 2008 to 2024')\n",
    "                year_wise_winning_toss()"
   ]
  },
  {
   "cell_type": "code",
   "execution_count": 60,
   "id": "d827aa2a-5fd8-4155-a3da-1ed13f433baa",
   "metadata": {},
   "outputs": [
    {
     "name": "stdin",
     "output_type": "stream",
     "text": [
      "Year= all\n"
     ]
    },
    {
     "name": "stdout",
     "output_type": "stream",
     "text": [
      "Rising Pune Supergiant,Pune Warriors,Rajasthan Royals,Kolkata Knight Riders,Chennai Super Kings,Lucknow Super Giants,Kochi Tuskers Kerala,Gujarat Titans,Rising Pune Supergiants,Deccan Chargers,Delhi Daredevils,Royal Challengers Bangalore,Delhi Capitals,Punjab Kings,Mumbai Indians,Royal Challengers Bengaluru,Kings XI Punjab,Gujarat Lions,Sunrisers Hyderabad,"
     ]
    },
    {
     "name": "stdin",
     "output_type": "stream",
     "text": [
      "Team= Kings XI Punjab\n"
     ]
    },
    {
     "data": {
      "image/png": "[encoded data removed]",
      "text/plain": [
       "<Figure size 640x480 with 1 Axes>"
      ]
     },
     "metadata": {},
     "output_type": "display_data"
    }
   ],
   "source": [
    "year_wise_winning_toss()"
   ]
  },
  {
   "cell_type": "markdown",
   "id": "2c8b2046-ff74-44bc-8b25-44a7823a6443",
   "metadata": {},
   "source": [
    "9.Year wise percentage of choosing bat and field "
   ]
  },
  {
   "cell_type": "code",
   "execution_count": 57,
   "id": "51975d84-a213-4686-9740-22e7bd209da8",
   "metadata": {},
   "outputs": [],
   "source": [
    "def year_wise_toss_decision(Year=None):\n",
    "    if Year==None:\n",
    "        Year=input('Year=')\n",
    "    else:\n",
    "        Year=str(Year)\n",
    "    if Year.lower()=='all':\n",
    "        Set=set(winning_toss_team['team'])\n",
    "        for st in Set:\n",
    "            print(st,end=',')\n",
    "        Team=input('Team=')\n",
    "        if Team in Set:\n",
    "            z=len(matches_copy.loc[(matches_copy['toss_winner']==Team) & (matches_copy['toss_decision']=='bat')])/\\\n",
    "              len(matches_copy.loc[matches_copy['toss_winner']==Team])*100\n",
    "            plt.pie(x=[z,100-z],labels=['Bat','Field'],autopct='%1.1f%%')\n",
    "        else:\n",
    "            print('Choose Team from the above list')\n",
    "            year_wise_winning_toss(Year)\n",
    "    else:\n",
    "        try:\n",
    "            Year=int(Year) \n",
    "        except ValueError:\n",
    "            print('Choose between all or 2008 to 2024')\n",
    "            year_wise_winning_toss()\n",
    "        else:\n",
    "            if 2008<=Year<2024:\n",
    "                Set=set(winning_toss_team.loc[winning_toss_team['year']==Year]['team'])\n",
    "                for st in Set:\n",
    "                    print(st,end=',')\n",
    "                Team=input('Team=')    \n",
    "                if Team in Set:\n",
    "                    y=len(matches_copy.loc[(matches_copy['toss_winner']==Team) & (matches_copy['toss_decision']=='bat') & \\\n",
    "                      (matches_copy['year']==Year)])/len(matches_copy.loc[(matches_copy['toss_winner']==Team) & matches_copy['year']==Year])*100\n",
    "                    plt.pie(x=[y,100-y],labels=['Bat','Field'],autopct='%1.1f%%')\n",
    "                else:\n",
    "                    print('Choose Team from the above list')\n",
    "                    year_wise_winning_toss(Year)\n",
    "            else:\n",
    "                print('Choose between all or 2008 to 2024')\n",
    "                year_wise_winning_toss()"
   ]
  },
  {
   "cell_type": "code",
   "execution_count": 59,
   "id": "e7c4dcd5-21d3-4882-bf0a-8786d9e0c314",
   "metadata": {},
   "outputs": [
    {
     "name": "stdin",
     "output_type": "stream",
     "text": [
      "Year= all\n"
     ]
    },
    {
     "name": "stdout",
     "output_type": "stream",
     "text": [
      "Rising Pune Supergiant,Pune Warriors,Rajasthan Royals,Kolkata Knight Riders,Chennai Super Kings,Lucknow Super Giants,Kochi Tuskers Kerala,Gujarat Titans,Rising Pune Supergiants,Deccan Chargers,Delhi Daredevils,Royal Challengers Bangalore,Delhi Capitals,Punjab Kings,Mumbai Indians,Royal Challengers Bengaluru,Kings XI Punjab,Gujarat Lions,Sunrisers Hyderabad,"
     ]
    },
    {
     "name": "stdin",
     "output_type": "stream",
     "text": [
      "Team= Kings XI Punjab\n"
     ]
    },
    {
     "data": {
      "image/png": "[encoded data removed]",
      "text/plain": [
       "<Figure size 640x480 with 1 Axes>"
      ]
     },
     "metadata": {},
     "output_type": "display_data"
    }
   ],
   "source": [
    "year_wise_toss_decision()"
   ]
  },
  {
   "cell_type": "markdown",
   "id": "c2ec0ea7-a74f-4a5a-ad88-925466f2b749",
   "metadata": {},
   "source": [
    "Total Match in Each Venue"
   ]
  },
  {
   "cell_type": "code",
   "execution_count": 15,
   "id": "af4da8ef-1cb0-4d7a-9eeb-0e445bad6bae",
   "metadata": {},
   "outputs": [
    {
     "data": {
      "text/plain": [
       "Index(['id', 'season', 'city', 'date', 'match_type', 'player_of_match',\n",
       "       'venue', 'team1', 'team2', 'toss_winner', 'toss_decision', 'winner',\n",
       "       'result', 'result_margin', 'target_runs', 'target_overs', 'super_over',\n",
       "       'method', 'umpire1', 'umpire2'],\n",
       "      dtype='object')"
      ]
     },
     "execution_count": 15,
     "metadata": {},
     "output_type": "execute_result"
    }
   ],
   "source": [
    "matches.columns"
   ]
  },
  {
   "cell_type": "code",
   "execution_count": 16,
   "id": "fbb284e2-6711-41f9-af18-a83e11c77ffb",
   "metadata": {},
   "outputs": [],
   "source": [
    "match_venue=matches.venue.value_counts()"
   ]
  },
  {
   "cell_type": "code",
   "execution_count": 17,
   "id": "2723359b-8db6-44cf-8573-97a653c7e12d",
   "metadata": {},
   "outputs": [
    {
     "data": {
      "text/plain": [
       "venue\n",
       "Eden Gardens                                                             77\n",
       "Wankhede Stadium                                                         73\n",
       "M Chinnaswamy Stadium                                                    65\n",
       "Feroz Shah Kotla                                                         60\n",
       "Rajiv Gandhi International Stadium, Uppal                                49\n",
       "MA Chidambaram Stadium, Chepauk                                          48\n",
       "Sawai Mansingh Stadium                                                   47\n",
       "Dubai International Cricket Stadium                                      46\n",
       "Wankhede Stadium, Mumbai                                                 45\n",
       "Punjab Cricket Association Stadium, Mohali                               35\n",
       "Sheikh Zayed Stadium                                                     29\n",
       "Sharjah Cricket Stadium                                                  28\n",
       "MA Chidambaram Stadium, Chepauk, Chennai                                 28\n",
       "Narendra Modi Stadium, Ahmedabad                                         24\n",
       "Maharashtra Cricket Association Stadium                                  22\n",
       "Dr DY Patil Sports Academy, Mumbai                                       20\n",
       "Brabourne Stadium, Mumbai                                                17\n",
       "Dr DY Patil Sports Academy                                               17\n",
       "Eden Gardens, Kolkata                                                    16\n",
       "Subrata Roy Sahara Stadium                                               16\n",
       "Arun Jaitley Stadium, Delhi                                              16\n",
       "Rajiv Gandhi International Stadium                                       15\n",
       "M.Chinnaswamy Stadium                                                    15\n",
       "Kingsmead                                                                15\n",
       "Arun Jaitley Stadium                                                     14\n",
       "Bharat Ratna Shri Atal Bihari Vajpayee Ekana Cricket Stadium, Lucknow    14\n",
       "M Chinnaswamy Stadium, Bengaluru                                         14\n",
       "Rajiv Gandhi International Stadium, Uppal, Hyderabad                     13\n",
       "Maharashtra Cricket Association Stadium, Pune                            13\n",
       "Dr. Y.S. Rajasekhara Reddy ACA-VDCA Cricket Stadium                      13\n",
       "SuperSport Park                                                          12\n",
       "Sardar Patel Stadium, Motera                                             12\n",
       "Punjab Cricket Association IS Bindra Stadium, Mohali                     11\n",
       "Sawai Mansingh Stadium, Jaipur                                           10\n",
       "Saurashtra Cricket Association Stadium                                   10\n",
       "Brabourne Stadium                                                        10\n",
       "Punjab Cricket Association IS Bindra Stadium                             10\n",
       "Himachal Pradesh Cricket Association Stadium                              9\n",
       "MA Chidambaram Stadium                                                    9\n",
       "Holkar Cricket Stadium                                                    9\n",
       "New Wanderers Stadium                                                     8\n",
       "Zayed Cricket Stadium, Abu Dhabi                                          8\n",
       "JSCA International Stadium Complex                                        7\n",
       "Barabati Stadium                                                          7\n",
       "St George's Park                                                          7\n",
       "Newlands                                                                  7\n",
       "Shaheed Veer Narayan Singh International Stadium                          6\n",
       "Nehru Stadium                                                             5\n",
       "Punjab Cricket Association IS Bindra Stadium, Mohali, Chandigarh          5\n",
       "Maharaja Yadavindra Singh International Cricket Stadium, Mullanpur        5\n",
       "Green Park                                                                4\n",
       "Himachal Pradesh Cricket Association Stadium, Dharamsala                  4\n",
       "Vidarbha Cricket Association Stadium, Jamtha                              3\n",
       "De Beers Diamond Oval                                                     3\n",
       "Buffalo Park                                                              3\n",
       "Barsapara Cricket Stadium, Guwahati                                       3\n",
       "OUTsurance Oval                                                           2\n",
       "Dr. Y.S. Rajasekhara Reddy ACA-VDCA Cricket Stadium, Visakhapatnam        2\n",
       "Name: count, dtype: int64"
      ]
     },
     "execution_count": 17,
     "metadata": {},
     "output_type": "execute_result"
    }
   ],
   "source": [
    "match_venue"
   ]
  },
  {
   "cell_type": "markdown",
   "id": "b8ce6e19-7a08-42ac-980a-a79f76f47842",
   "metadata": {},
   "source": [
    "How Many Matches Every Team Wins"
   ]
  },
  {
   "cell_type": "code",
   "execution_count": 18,
   "id": "96186aef-5666-4d44-8f92-cf9b0a810e6d",
   "metadata": {},
   "outputs": [
    {
     "data": {
      "text/plain": [
       "Index(['id', 'season', 'city', 'date', 'match_type', 'player_of_match',\n",
       "       'venue', 'team1', 'team2', 'toss_winner', 'toss_decision', 'winner',\n",
       "       'result', 'result_margin', 'target_runs', 'target_overs', 'super_over',\n",
       "       'method', 'umpire1', 'umpire2'],\n",
       "      dtype='object')"
      ]
     },
     "execution_count": 18,
     "metadata": {},
     "output_type": "execute_result"
    }
   ],
   "source": [
    "matches.columns"
   ]
  },
  {
   "cell_type": "code",
   "execution_count": 19,
   "id": "dbadc953-feb7-4559-9d4f-6fe9880643e2",
   "metadata": {},
   "outputs": [],
   "source": [
    "matches_winner=matches.winner.value_counts()"
   ]
  },
  {
   "cell_type": "code",
   "execution_count": 20,
   "id": "bef46002-4a9a-4299-bc1c-60b2428c1263",
   "metadata": {},
   "outputs": [
    {
     "data": {
      "text/plain": [
       "winner\n",
       "Mumbai Indians                 144\n",
       "Chennai Super Kings            138\n",
       "Kolkata Knight Riders          131\n",
       "Royal Challengers Bangalore    116\n",
       "Rajasthan Royals               112\n",
       "Kings XI Punjab                 88\n",
       "Sunrisers Hyderabad             88\n",
       "Delhi Daredevils                67\n",
       "Delhi Capitals                  48\n",
       "Deccan Chargers                 29\n",
       "Gujarat Titans                  28\n",
       "Lucknow Super Giants            24\n",
       "Punjab Kings                    24\n",
       "Gujarat Lions                   13\n",
       "Pune Warriors                   12\n",
       "Rising Pune Supergiant          10\n",
       "Royal Challengers Bengaluru      7\n",
       "Kochi Tuskers Kerala             6\n",
       "Rising Pune Supergiants          5\n",
       "Name: count, dtype: int64"
      ]
     },
     "execution_count": 20,
     "metadata": {},
     "output_type": "execute_result"
    }
   ],
   "source": [
    "matches_winner"
   ]
  },
  {
   "cell_type": "markdown",
   "id": "d1e18a6d-91ac-4f64-a993-a30baf03ab16",
   "metadata": {},
   "source": [
    "How Many Match Occured in Every City"
   ]
  },
  {
   "cell_type": "code",
   "execution_count": 21,
   "id": "152b35fb-2db1-44cd-b7ab-ad5fba417f23",
   "metadata": {},
   "outputs": [],
   "source": [
    "match_city=matches.city.value_counts()"
   ]
  },
  {
   "cell_type": "code",
   "execution_count": 22,
   "id": "b6079746-1e22-496d-bf45-663ef72b57fe",
   "metadata": {},
   "outputs": [
    {
     "data": {
      "text/plain": [
       "city\n",
       "Mumbai            173\n",
       "Kolkata            93\n",
       "Delhi              90\n",
       "Chennai            85\n",
       "Hyderabad          77\n",
       "Bangalore          65\n",
       "Chandigarh         61\n",
       "Jaipur             57\n",
       "Pune               51\n",
       "Dubai              46\n",
       "Abu Dhabi          37\n",
       "Ahmedabad          36\n",
       "Bengaluru          29\n",
       "Sharjah            28\n",
       "Durban             15\n",
       "Visakhapatnam      15\n",
       "Lucknow            14\n",
       "Dharamsala         13\n",
       "Centurion          12\n",
       "Rajkot             10\n",
       "Indore              9\n",
       "Navi Mumbai         9\n",
       "Johannesburg        8\n",
       "Cuttack             7\n",
       "Port Elizabeth      7\n",
       "Ranchi              7\n",
       "Cape Town           7\n",
       "Raipur              6\n",
       "Mohali              5\n",
       "Kochi               5\n",
       "Kanpur              4\n",
       "Kimberley           3\n",
       "East London         3\n",
       "Guwahati            3\n",
       "Nagpur              3\n",
       "Bloemfontein        2\n",
       "Name: count, dtype: int64"
      ]
     },
     "execution_count": 22,
     "metadata": {},
     "output_type": "execute_result"
    }
   ],
   "source": [
    "match_city"
   ]
  },
  {
   "cell_type": "markdown",
   "id": "5bf83b59-546a-4b31-9653-89bda5ca1f0c",
   "metadata": {},
   "source": [
    "How Many Every Types of Match Happend "
   ]
  },
  {
   "cell_type": "code",
   "execution_count": 23,
   "id": "46eca6f7-945f-4eaf-9f3f-e5ab85a03a2b",
   "metadata": {},
   "outputs": [],
   "source": [
    "match_type=matches.match_type.value_counts()"
   ]
  },
  {
   "cell_type": "code",
   "execution_count": 24,
   "id": "dd101894-53eb-4665-8c9a-1b71751a76f4",
   "metadata": {},
   "outputs": [
    {
     "data": {
      "text/plain": [
       "match_type\n",
       "League                1029\n",
       "Final                   17\n",
       "Qualifier 1             14\n",
       "Qualifier 2             14\n",
       "Eliminator              11\n",
       "Semi Final               6\n",
       "Elimination Final        3\n",
       "3rd Place Play-Off       1\n",
       "Name: count, dtype: int64"
      ]
     },
     "execution_count": 24,
     "metadata": {},
     "output_type": "execute_result"
    }
   ],
   "source": [
    "match_type"
   ]
  },
  {
   "cell_type": "markdown",
   "id": "3fbba066-158d-4d27-bffd-4a529e146132",
   "metadata": {},
   "source": [
    "Who Win Most Player of The Match Award"
   ]
  },
  {
   "cell_type": "code",
   "execution_count": 25,
   "id": "42fbaf4d-f715-45f8-b638-aab65163b741",
   "metadata": {},
   "outputs": [
    {
     "data": {
      "text/html": [
       "<div>\n",
       "<style scoped>\n",
       "    .dataframe tbody tr th:only-of-type {\n",
       "        vertical-align: middle;\n",
       "    }\n",
       "\n",
       "    .dataframe tbody tr th {\n",
       "        vertical-align: top;\n",
       "    }\n",
       "\n",
       "    .dataframe thead th {\n",
       "        text-align: right;\n",
       "    }\n",
       "</style>\n",
       "<table border=\"1\" class=\"dataframe\">\n",
       "  <thead>\n",
       "    <tr style=\"text-align: right;\">\n",
       "      <th></th>\n",
       "      <th>id</th>\n",
       "      <th>season</th>\n",
       "      <th>city</th>\n",
       "      <th>date</th>\n",
       "      <th>match_type</th>\n",
       "      <th>player_of_match</th>\n",
       "      <th>venue</th>\n",
       "      <th>team1</th>\n",
       "      <th>team2</th>\n",
       "      <th>toss_winner</th>\n",
       "      <th>toss_decision</th>\n",
       "      <th>winner</th>\n",
       "      <th>result</th>\n",
       "      <th>result_margin</th>\n",
       "      <th>target_runs</th>\n",
       "      <th>target_overs</th>\n",
       "      <th>super_over</th>\n",
       "      <th>method</th>\n",
       "      <th>umpire1</th>\n",
       "      <th>umpire2</th>\n",
       "    </tr>\n",
       "  </thead>\n",
       "  <tbody>\n",
       "    <tr>\n",
       "      <th>0</th>\n",
       "      <td>335982</td>\n",
       "      <td>2007/08</td>\n",
       "      <td>Bangalore</td>\n",
       "      <td>2008-04-18</td>\n",
       "      <td>League</td>\n",
       "      <td>BB McCullum</td>\n",
       "      <td>M Chinnaswamy Stadium</td>\n",
       "      <td>Royal Challengers Bangalore</td>\n",
       "      <td>Kolkata Knight Riders</td>\n",
       "      <td>Royal Challengers Bangalore</td>\n",
       "      <td>field</td>\n",
       "      <td>Kolkata Knight Riders</td>\n",
       "      <td>runs</td>\n",
       "      <td>140.0</td>\n",
       "      <td>223.0</td>\n",
       "      <td>20.0</td>\n",
       "      <td>N</td>\n",
       "      <td>NaN</td>\n",
       "      <td>Asad Rauf</td>\n",
       "      <td>RE Koertzen</td>\n",
       "    </tr>\n",
       "    <tr>\n",
       "      <th>1</th>\n",
       "      <td>335983</td>\n",
       "      <td>2007/08</td>\n",
       "      <td>Chandigarh</td>\n",
       "      <td>2008-04-19</td>\n",
       "      <td>League</td>\n",
       "      <td>MEK Hussey</td>\n",
       "      <td>Punjab Cricket Association Stadium, Mohali</td>\n",
       "      <td>Kings XI Punjab</td>\n",
       "      <td>Chennai Super Kings</td>\n",
       "      <td>Chennai Super Kings</td>\n",
       "      <td>bat</td>\n",
       "      <td>Chennai Super Kings</td>\n",
       "      <td>runs</td>\n",
       "      <td>33.0</td>\n",
       "      <td>241.0</td>\n",
       "      <td>20.0</td>\n",
       "      <td>N</td>\n",
       "      <td>NaN</td>\n",
       "      <td>MR Benson</td>\n",
       "      <td>SL Shastri</td>\n",
       "    </tr>\n",
       "  </tbody>\n",
       "</table>\n",
       "</div>"
      ],
      "text/plain": [
       "       id   season        city        date match_type player_of_match  \\\n",
       "0  335982  2007/08   Bangalore  2008-04-18     League     BB McCullum   \n",
       "1  335983  2007/08  Chandigarh  2008-04-19     League      MEK Hussey   \n",
       "\n",
       "                                        venue                        team1  \\\n",
       "0                       M Chinnaswamy Stadium  Royal Challengers Bangalore   \n",
       "1  Punjab Cricket Association Stadium, Mohali              Kings XI Punjab   \n",
       "\n",
       "                   team2                  toss_winner toss_decision  \\\n",
       "0  Kolkata Knight Riders  Royal Challengers Bangalore         field   \n",
       "1    Chennai Super Kings          Chennai Super Kings           bat   \n",
       "\n",
       "                  winner result  result_margin  target_runs  target_overs  \\\n",
       "0  Kolkata Knight Riders   runs          140.0        223.0          20.0   \n",
       "1    Chennai Super Kings   runs           33.0        241.0          20.0   \n",
       "\n",
       "  super_over method    umpire1      umpire2  \n",
       "0          N    NaN  Asad Rauf  RE Koertzen  \n",
       "1          N    NaN  MR Benson   SL Shastri  "
      ]
     },
     "execution_count": 25,
     "metadata": {},
     "output_type": "execute_result"
    }
   ],
   "source": [
    "matches.head(2)"
   ]
  },
  {
   "cell_type": "code",
   "execution_count": 26,
   "id": "0e029b3a-0ad9-4661-b4a0-d535a55bc40a",
   "metadata": {},
   "outputs": [],
   "source": [
    "most_time_player_of_match=matches.player_of_match.value_counts().max()"
   ]
  },
  {
   "cell_type": "code",
   "execution_count": 27,
   "id": "8146da23-3679-49d7-aa9f-6f9461a77285",
   "metadata": {},
   "outputs": [],
   "source": [
    "most_player_of_match=matches.player_of_match.value_counts().idxmax()"
   ]
  },
  {
   "cell_type": "code",
   "execution_count": 28,
   "id": "c826559a-2bc2-479d-830b-b7f7264960e4",
   "metadata": {},
   "outputs": [
    {
     "name": "stdout",
     "output_type": "stream",
     "text": [
      "AB de Villiers win most player of the match award.He win 25 times\n"
     ]
    }
   ],
   "source": [
    "print(f'{most_player_of_match} win most player of the match award.He win {most_time_player_of_match} times')"
   ]
  },
  {
   "cell_type": "markdown",
   "id": "669d3f20-ac83-4a48-8d93-16e81948607f",
   "metadata": {},
   "source": [
    "Toss Winning Team How Many Time Choose Bat Or Field"
   ]
  },
  {
   "cell_type": "code",
   "execution_count": 29,
   "id": "d494e78b-6caa-4353-a5bd-15b9615d91a6",
   "metadata": {},
   "outputs": [
    {
     "data": {
      "text/plain": [
       "toss_decision\n",
       "field    704\n",
       "bat      391\n",
       "Name: count, dtype: int64"
      ]
     },
     "execution_count": 29,
     "metadata": {},
     "output_type": "execute_result"
    }
   ],
   "source": [
    "matches.toss_decision.value_counts()"
   ]
  },
  {
   "cell_type": "markdown",
   "id": "71ff5765-510b-4421-8c81-638754b1fb98",
   "metadata": {},
   "source": [
    "How Many Matches Every Team Played"
   ]
  },
  {
   "cell_type": "code",
   "execution_count": 30,
   "id": "abf3533f-ff6a-4223-a932-c3ecf56f0f9b",
   "metadata": {},
   "outputs": [],
   "source": [
    "match_played=matches.team1.value_counts()+matches.team2.value_counts()"
   ]
  },
  {
   "cell_type": "code",
   "execution_count": 31,
   "id": "724f6278-fee5-425f-adc6-8d668b2269db",
   "metadata": {},
   "outputs": [],
   "source": [
    "match_played=match_played.sort_values(ascending=False)"
   ]
  },
  {
   "cell_type": "code",
   "execution_count": 32,
   "id": "dc25cdad-dc1c-4142-8cce-10d67184c5c7",
   "metadata": {},
   "outputs": [
    {
     "data": {
      "text/plain": [
       "Mumbai Indians                 261\n",
       "Kolkata Knight Riders          251\n",
       "Royal Challengers Bangalore    240\n",
       "Chennai Super Kings            238\n",
       "Rajasthan Royals               221\n",
       "Kings XI Punjab                190\n",
       "Sunrisers Hyderabad            182\n",
       "Delhi Daredevils               161\n",
       "Delhi Capitals                  91\n",
       "Deccan Chargers                 75\n",
       "Punjab Kings                    56\n",
       "Pune Warriors                   46\n",
       "Gujarat Titans                  45\n",
       "Lucknow Super Giants            44\n",
       "Gujarat Lions                   30\n",
       "Rising Pune Supergiant          16\n",
       "Royal Challengers Bengaluru     15\n",
       "Kochi Tuskers Kerala            14\n",
       "Rising Pune Supergiants         14\n",
       "Name: count, dtype: int64"
      ]
     },
     "execution_count": 32,
     "metadata": {},
     "output_type": "execute_result"
    }
   ],
   "source": [
    "match_played"
   ]
  },
  {
   "cell_type": "markdown",
   "id": "d04e27fb-9878-472c-a154-6106e0edb4b2",
   "metadata": {},
   "source": [
    "Heighest Target By a Team"
   ]
  },
  {
   "cell_type": "code",
   "execution_count": 33,
   "id": "8a942604-e48e-406c-8aac-487a8f2a40b1",
   "metadata": {},
   "outputs": [
    {
     "data": {
      "text/plain": [
       "288.0"
      ]
     },
     "execution_count": 33,
     "metadata": {},
     "output_type": "execute_result"
    }
   ],
   "source": [
    "matches.target_runs.max()"
   ]
  },
  {
   "cell_type": "code",
   "execution_count": 34,
   "id": "75dd085b-2b43-4ab2-ae96-5879c2d1cce8",
   "metadata": {},
   "outputs": [],
   "source": [
    "highest_target_team=matches.loc[matches.target_runs==288]"
   ]
  },
  {
   "cell_type": "code",
   "execution_count": 35,
   "id": "afbaec5c-17ee-430d-b6ed-cc1270e6f085",
   "metadata": {},
   "outputs": [
    {
     "data": {
      "text/html": [
       "<div>\n",
       "<style scoped>\n",
       "    .dataframe tbody tr th:only-of-type {\n",
       "        vertical-align: middle;\n",
       "    }\n",
       "\n",
       "    .dataframe tbody tr th {\n",
       "        vertical-align: top;\n",
       "    }\n",
       "\n",
       "    .dataframe thead th {\n",
       "        text-align: right;\n",
       "    }\n",
       "</style>\n",
       "<table border=\"1\" class=\"dataframe\">\n",
       "  <thead>\n",
       "    <tr style=\"text-align: right;\">\n",
       "      <th></th>\n",
       "      <th>id</th>\n",
       "      <th>season</th>\n",
       "      <th>city</th>\n",
       "      <th>date</th>\n",
       "      <th>match_type</th>\n",
       "      <th>player_of_match</th>\n",
       "      <th>venue</th>\n",
       "      <th>team1</th>\n",
       "      <th>team2</th>\n",
       "      <th>toss_winner</th>\n",
       "      <th>toss_decision</th>\n",
       "      <th>winner</th>\n",
       "      <th>result</th>\n",
       "      <th>result_margin</th>\n",
       "      <th>target_runs</th>\n",
       "      <th>target_overs</th>\n",
       "      <th>super_over</th>\n",
       "      <th>method</th>\n",
       "      <th>umpire1</th>\n",
       "      <th>umpire2</th>\n",
       "    </tr>\n",
       "  </thead>\n",
       "  <tbody>\n",
       "    <tr>\n",
       "      <th>1053</th>\n",
       "      <td>1426268</td>\n",
       "      <td>2024</td>\n",
       "      <td>Bengaluru</td>\n",
       "      <td>2024-04-15</td>\n",
       "      <td>League</td>\n",
       "      <td>TM Head</td>\n",
       "      <td>M Chinnaswamy Stadium, Bengaluru</td>\n",
       "      <td>Sunrisers Hyderabad</td>\n",
       "      <td>Royal Challengers Bengaluru</td>\n",
       "      <td>Royal Challengers Bengaluru</td>\n",
       "      <td>field</td>\n",
       "      <td>Sunrisers Hyderabad</td>\n",
       "      <td>runs</td>\n",
       "      <td>25.0</td>\n",
       "      <td>288.0</td>\n",
       "      <td>20.0</td>\n",
       "      <td>N</td>\n",
       "      <td>NaN</td>\n",
       "      <td>AK Chaudhary</td>\n",
       "      <td>R Pandit</td>\n",
       "    </tr>\n",
       "  </tbody>\n",
       "</table>\n",
       "</div>"
      ],
      "text/plain": [
       "           id season       city        date match_type player_of_match  \\\n",
       "1053  1426268   2024  Bengaluru  2024-04-15     League         TM Head   \n",
       "\n",
       "                                 venue                team1  \\\n",
       "1053  M Chinnaswamy Stadium, Bengaluru  Sunrisers Hyderabad   \n",
       "\n",
       "                            team2                  toss_winner toss_decision  \\\n",
       "1053  Royal Challengers Bengaluru  Royal Challengers Bengaluru         field   \n",
       "\n",
       "                   winner result  result_margin  target_runs  target_overs  \\\n",
       "1053  Sunrisers Hyderabad   runs           25.0        288.0          20.0   \n",
       "\n",
       "     super_over method       umpire1   umpire2  \n",
       "1053          N    NaN  AK Chaudhary  R Pandit  "
      ]
     },
     "execution_count": 35,
     "metadata": {},
     "output_type": "execute_result"
    }
   ],
   "source": [
    "highest_target_team"
   ]
  },
  {
   "cell_type": "code",
   "execution_count": 36,
   "id": "a689487e-6e47-4786-bff4-d909e3bae6db",
   "metadata": {},
   "outputs": [
    {
     "data": {
      "text/plain": [
       "Index(['id', 'season', 'city', 'date', 'match_type', 'player_of_match',\n",
       "       'venue', 'team1', 'team2', 'toss_winner', 'toss_decision', 'winner',\n",
       "       'result', 'result_margin', 'target_runs', 'target_overs', 'super_over',\n",
       "       'method', 'umpire1', 'umpire2'],\n",
       "      dtype='object')"
      ]
     },
     "execution_count": 36,
     "metadata": {},
     "output_type": "execute_result"
    }
   ],
   "source": [
    "matches.columns"
   ]
  },
  {
   "cell_type": "code",
   "execution_count": 37,
   "id": "5b6abfd4-6cf7-4607-88db-1ae5da88d476",
   "metadata": {},
   "outputs": [
    {
     "data": {
      "text/plain": [
       "super_over\n",
       "N    1081\n",
       "Y      14\n",
       "Name: count, dtype: int64"
      ]
     },
     "execution_count": 37,
     "metadata": {},
     "output_type": "execute_result"
    }
   ],
   "source": [
    "matches.super_over.value_counts()"
   ]
  },
  {
   "cell_type": "code",
   "execution_count": 38,
   "id": "6c17b4fa-6767-4966-abc4-a72846bba79a",
   "metadata": {},
   "outputs": [
    {
     "data": {
      "text/html": [
       "<div>\n",
       "<style scoped>\n",
       "    .dataframe tbody tr th:only-of-type {\n",
       "        vertical-align: middle;\n",
       "    }\n",
       "\n",
       "    .dataframe tbody tr th {\n",
       "        vertical-align: top;\n",
       "    }\n",
       "\n",
       "    .dataframe thead th {\n",
       "        text-align: right;\n",
       "    }\n",
       "</style>\n",
       "<table border=\"1\" class=\"dataframe\">\n",
       "  <thead>\n",
       "    <tr style=\"text-align: right;\">\n",
       "      <th></th>\n",
       "      <th>id</th>\n",
       "      <th>season</th>\n",
       "      <th>city</th>\n",
       "      <th>date</th>\n",
       "      <th>match_type</th>\n",
       "      <th>player_of_match</th>\n",
       "      <th>venue</th>\n",
       "      <th>team1</th>\n",
       "      <th>team2</th>\n",
       "      <th>toss_winner</th>\n",
       "      <th>toss_decision</th>\n",
       "      <th>winner</th>\n",
       "      <th>result</th>\n",
       "      <th>result_margin</th>\n",
       "      <th>target_runs</th>\n",
       "      <th>target_overs</th>\n",
       "      <th>super_over</th>\n",
       "      <th>method</th>\n",
       "      <th>umpire1</th>\n",
       "      <th>umpire2</th>\n",
       "    </tr>\n",
       "  </thead>\n",
       "  <tbody>\n",
       "    <tr>\n",
       "      <th>66</th>\n",
       "      <td>392190</td>\n",
       "      <td>2009</td>\n",
       "      <td>Cape Town</td>\n",
       "      <td>2009-04-23</td>\n",
       "      <td>League</td>\n",
       "      <td>YK Pathan</td>\n",
       "      <td>Newlands</td>\n",
       "      <td>Kolkata Knight Riders</td>\n",
       "      <td>Rajasthan Royals</td>\n",
       "      <td>Kolkata Knight Riders</td>\n",
       "      <td>field</td>\n",
       "      <td>Rajasthan Royals</td>\n",
       "      <td>tie</td>\n",
       "      <td>NaN</td>\n",
       "      <td>151.0</td>\n",
       "      <td>20.0</td>\n",
       "      <td>Y</td>\n",
       "      <td>NaN</td>\n",
       "      <td>MR Benson</td>\n",
       "      <td>M Erasmus</td>\n",
       "    </tr>\n",
       "    <tr>\n",
       "      <th>130</th>\n",
       "      <td>419121</td>\n",
       "      <td>2009/10</td>\n",
       "      <td>Chennai</td>\n",
       "      <td>2010-03-21</td>\n",
       "      <td>League</td>\n",
       "      <td>J Theron</td>\n",
       "      <td>MA Chidambaram Stadium, Chepauk</td>\n",
       "      <td>Chennai Super Kings</td>\n",
       "      <td>Kings XI Punjab</td>\n",
       "      <td>Chennai Super Kings</td>\n",
       "      <td>field</td>\n",
       "      <td>Kings XI Punjab</td>\n",
       "      <td>tie</td>\n",
       "      <td>NaN</td>\n",
       "      <td>137.0</td>\n",
       "      <td>20.0</td>\n",
       "      <td>Y</td>\n",
       "      <td>NaN</td>\n",
       "      <td>K Hariharan</td>\n",
       "      <td>DJ Harper</td>\n",
       "    </tr>\n",
       "    <tr>\n",
       "      <th>328</th>\n",
       "      <td>598004</td>\n",
       "      <td>2013</td>\n",
       "      <td>Hyderabad</td>\n",
       "      <td>2013-04-07</td>\n",
       "      <td>League</td>\n",
       "      <td>GH Vihari</td>\n",
       "      <td>Rajiv Gandhi International Stadium, Uppal</td>\n",
       "      <td>Sunrisers Hyderabad</td>\n",
       "      <td>Royal Challengers Bangalore</td>\n",
       "      <td>Royal Challengers Bangalore</td>\n",
       "      <td>bat</td>\n",
       "      <td>Sunrisers Hyderabad</td>\n",
       "      <td>tie</td>\n",
       "      <td>NaN</td>\n",
       "      <td>131.0</td>\n",
       "      <td>20.0</td>\n",
       "      <td>Y</td>\n",
       "      <td>NaN</td>\n",
       "      <td>AK Chaudhary</td>\n",
       "      <td>S Ravi</td>\n",
       "    </tr>\n",
       "    <tr>\n",
       "      <th>342</th>\n",
       "      <td>598017</td>\n",
       "      <td>2013</td>\n",
       "      <td>Bangalore</td>\n",
       "      <td>2013-04-16</td>\n",
       "      <td>League</td>\n",
       "      <td>V Kohli</td>\n",
       "      <td>M Chinnaswamy Stadium</td>\n",
       "      <td>Royal Challengers Bangalore</td>\n",
       "      <td>Delhi Daredevils</td>\n",
       "      <td>Royal Challengers Bangalore</td>\n",
       "      <td>field</td>\n",
       "      <td>Royal Challengers Bangalore</td>\n",
       "      <td>tie</td>\n",
       "      <td>NaN</td>\n",
       "      <td>153.0</td>\n",
       "      <td>20.0</td>\n",
       "      <td>Y</td>\n",
       "      <td>NaN</td>\n",
       "      <td>M Erasmus</td>\n",
       "      <td>VA Kulkarni</td>\n",
       "    </tr>\n",
       "    <tr>\n",
       "      <th>416</th>\n",
       "      <td>729315</td>\n",
       "      <td>2014</td>\n",
       "      <td>Abu Dhabi</td>\n",
       "      <td>2014-04-29</td>\n",
       "      <td>League</td>\n",
       "      <td>JP Faulkner</td>\n",
       "      <td>Sheikh Zayed Stadium</td>\n",
       "      <td>Kolkata Knight Riders</td>\n",
       "      <td>Rajasthan Royals</td>\n",
       "      <td>Rajasthan Royals</td>\n",
       "      <td>bat</td>\n",
       "      <td>Rajasthan Royals</td>\n",
       "      <td>tie</td>\n",
       "      <td>NaN</td>\n",
       "      <td>153.0</td>\n",
       "      <td>20.0</td>\n",
       "      <td>Y</td>\n",
       "      <td>NaN</td>\n",
       "      <td>Aleem Dar</td>\n",
       "      <td>AK Chaudhary</td>\n",
       "    </tr>\n",
       "    <tr>\n",
       "      <th>475</th>\n",
       "      <td>829741</td>\n",
       "      <td>2015</td>\n",
       "      <td>Ahmedabad</td>\n",
       "      <td>2015-04-21</td>\n",
       "      <td>League</td>\n",
       "      <td>SE Marsh</td>\n",
       "      <td>Sardar Patel Stadium, Motera</td>\n",
       "      <td>Rajasthan Royals</td>\n",
       "      <td>Kings XI Punjab</td>\n",
       "      <td>Kings XI Punjab</td>\n",
       "      <td>field</td>\n",
       "      <td>Kings XI Punjab</td>\n",
       "      <td>tie</td>\n",
       "      <td>NaN</td>\n",
       "      <td>192.0</td>\n",
       "      <td>20.0</td>\n",
       "      <td>Y</td>\n",
       "      <td>NaN</td>\n",
       "      <td>M Erasmus</td>\n",
       "      <td>S Ravi</td>\n",
       "    </tr>\n",
       "    <tr>\n",
       "      <th>610</th>\n",
       "      <td>1082625</td>\n",
       "      <td>2017</td>\n",
       "      <td>Rajkot</td>\n",
       "      <td>2017-04-29</td>\n",
       "      <td>League</td>\n",
       "      <td>KH Pandya</td>\n",
       "      <td>Saurashtra Cricket Association Stadium</td>\n",
       "      <td>Gujarat Lions</td>\n",
       "      <td>Mumbai Indians</td>\n",
       "      <td>Gujarat Lions</td>\n",
       "      <td>bat</td>\n",
       "      <td>Mumbai Indians</td>\n",
       "      <td>tie</td>\n",
       "      <td>NaN</td>\n",
       "      <td>154.0</td>\n",
       "      <td>20.0</td>\n",
       "      <td>Y</td>\n",
       "      <td>NaN</td>\n",
       "      <td>AK Chaudhary</td>\n",
       "      <td>CB Gaffaney</td>\n",
       "    </tr>\n",
       "    <tr>\n",
       "      <th>705</th>\n",
       "      <td>1175365</td>\n",
       "      <td>2019</td>\n",
       "      <td>Delhi</td>\n",
       "      <td>2019-03-30</td>\n",
       "      <td>League</td>\n",
       "      <td>PP Shaw</td>\n",
       "      <td>Arun Jaitley Stadium</td>\n",
       "      <td>Kolkata Knight Riders</td>\n",
       "      <td>Delhi Capitals</td>\n",
       "      <td>Delhi Capitals</td>\n",
       "      <td>field</td>\n",
       "      <td>Delhi Capitals</td>\n",
       "      <td>tie</td>\n",
       "      <td>NaN</td>\n",
       "      <td>186.0</td>\n",
       "      <td>20.0</td>\n",
       "      <td>Y</td>\n",
       "      <td>NaN</td>\n",
       "      <td>AY Dandekar</td>\n",
       "      <td>Nitin Menon</td>\n",
       "    </tr>\n",
       "    <tr>\n",
       "      <th>746</th>\n",
       "      <td>1178426</td>\n",
       "      <td>2019</td>\n",
       "      <td>Mumbai</td>\n",
       "      <td>2019-05-02</td>\n",
       "      <td>League</td>\n",
       "      <td>JJ Bumrah</td>\n",
       "      <td>Wankhede Stadium</td>\n",
       "      <td>Mumbai Indians</td>\n",
       "      <td>Sunrisers Hyderabad</td>\n",
       "      <td>Mumbai Indians</td>\n",
       "      <td>bat</td>\n",
       "      <td>Mumbai Indians</td>\n",
       "      <td>tie</td>\n",
       "      <td>NaN</td>\n",
       "      <td>163.0</td>\n",
       "      <td>20.0</td>\n",
       "      <td>Y</td>\n",
       "      <td>NaN</td>\n",
       "      <td>CK Nandan</td>\n",
       "      <td>S Ravi</td>\n",
       "    </tr>\n",
       "    <tr>\n",
       "      <th>757</th>\n",
       "      <td>1216493</td>\n",
       "      <td>2020/21</td>\n",
       "      <td>Dubai</td>\n",
       "      <td>2020-09-20</td>\n",
       "      <td>League</td>\n",
       "      <td>MP Stoinis</td>\n",
       "      <td>Dubai International Cricket Stadium</td>\n",
       "      <td>Delhi Capitals</td>\n",
       "      <td>Kings XI Punjab</td>\n",
       "      <td>Kings XI Punjab</td>\n",
       "      <td>field</td>\n",
       "      <td>Delhi Capitals</td>\n",
       "      <td>tie</td>\n",
       "      <td>NaN</td>\n",
       "      <td>158.0</td>\n",
       "      <td>20.0</td>\n",
       "      <td>Y</td>\n",
       "      <td>NaN</td>\n",
       "      <td>AK Chaudhary</td>\n",
       "      <td>Nitin Menon</td>\n",
       "    </tr>\n",
       "    <tr>\n",
       "      <th>765</th>\n",
       "      <td>1216547</td>\n",
       "      <td>2020/21</td>\n",
       "      <td>Dubai</td>\n",
       "      <td>2020-09-28</td>\n",
       "      <td>League</td>\n",
       "      <td>AB de Villiers</td>\n",
       "      <td>Dubai International Cricket Stadium</td>\n",
       "      <td>Royal Challengers Bangalore</td>\n",
       "      <td>Mumbai Indians</td>\n",
       "      <td>Mumbai Indians</td>\n",
       "      <td>field</td>\n",
       "      <td>Royal Challengers Bangalore</td>\n",
       "      <td>tie</td>\n",
       "      <td>NaN</td>\n",
       "      <td>202.0</td>\n",
       "      <td>20.0</td>\n",
       "      <td>Y</td>\n",
       "      <td>NaN</td>\n",
       "      <td>Nitin Menon</td>\n",
       "      <td>PR Reiffel</td>\n",
       "    </tr>\n",
       "    <tr>\n",
       "      <th>790</th>\n",
       "      <td>1216512</td>\n",
       "      <td>2020/21</td>\n",
       "      <td>Abu Dhabi</td>\n",
       "      <td>2020-10-18</td>\n",
       "      <td>League</td>\n",
       "      <td>LH Ferguson</td>\n",
       "      <td>Sheikh Zayed Stadium</td>\n",
       "      <td>Kolkata Knight Riders</td>\n",
       "      <td>Sunrisers Hyderabad</td>\n",
       "      <td>Sunrisers Hyderabad</td>\n",
       "      <td>field</td>\n",
       "      <td>Kolkata Knight Riders</td>\n",
       "      <td>tie</td>\n",
       "      <td>NaN</td>\n",
       "      <td>164.0</td>\n",
       "      <td>20.0</td>\n",
       "      <td>Y</td>\n",
       "      <td>NaN</td>\n",
       "      <td>PG Pathak</td>\n",
       "      <td>S Ravi</td>\n",
       "    </tr>\n",
       "    <tr>\n",
       "      <th>791</th>\n",
       "      <td>1216517</td>\n",
       "      <td>2020/21</td>\n",
       "      <td>Dubai</td>\n",
       "      <td>2020-10-18</td>\n",
       "      <td>League</td>\n",
       "      <td>KL Rahul</td>\n",
       "      <td>Dubai International Cricket Stadium</td>\n",
       "      <td>Mumbai Indians</td>\n",
       "      <td>Kings XI Punjab</td>\n",
       "      <td>Mumbai Indians</td>\n",
       "      <td>bat</td>\n",
       "      <td>Kings XI Punjab</td>\n",
       "      <td>tie</td>\n",
       "      <td>NaN</td>\n",
       "      <td>177.0</td>\n",
       "      <td>20.0</td>\n",
       "      <td>Y</td>\n",
       "      <td>NaN</td>\n",
       "      <td>Nitin Menon</td>\n",
       "      <td>PR Reiffel</td>\n",
       "    </tr>\n",
       "    <tr>\n",
       "      <th>835</th>\n",
       "      <td>1254077</td>\n",
       "      <td>2021</td>\n",
       "      <td>Chennai</td>\n",
       "      <td>2021-04-25</td>\n",
       "      <td>League</td>\n",
       "      <td>PP Shaw</td>\n",
       "      <td>MA Chidambaram Stadium, Chepauk, Chennai</td>\n",
       "      <td>Delhi Capitals</td>\n",
       "      <td>Sunrisers Hyderabad</td>\n",
       "      <td>Delhi Capitals</td>\n",
       "      <td>bat</td>\n",
       "      <td>Delhi Capitals</td>\n",
       "      <td>tie</td>\n",
       "      <td>NaN</td>\n",
       "      <td>160.0</td>\n",
       "      <td>20.0</td>\n",
       "      <td>Y</td>\n",
       "      <td>NaN</td>\n",
       "      <td>CB Gaffaney</td>\n",
       "      <td>KN Ananthapadmanabhan</td>\n",
       "    </tr>\n",
       "  </tbody>\n",
       "</table>\n",
       "</div>"
      ],
      "text/plain": [
       "          id   season       city        date match_type player_of_match  \\\n",
       "66    392190     2009  Cape Town  2009-04-23     League       YK Pathan   \n",
       "130   419121  2009/10    Chennai  2010-03-21     League        J Theron   \n",
       "328   598004     2013  Hyderabad  2013-04-07     League       GH Vihari   \n",
       "342   598017     2013  Bangalore  2013-04-16     League         V Kohli   \n",
       "416   729315     2014  Abu Dhabi  2014-04-29     League     JP Faulkner   \n",
       "475   829741     2015  Ahmedabad  2015-04-21     League        SE Marsh   \n",
       "610  1082625     2017     Rajkot  2017-04-29     League       KH Pandya   \n",
       "705  1175365     2019      Delhi  2019-03-30     League         PP Shaw   \n",
       "746  1178426     2019     Mumbai  2019-05-02     League       JJ Bumrah   \n",
       "757  1216493  2020/21      Dubai  2020-09-20     League      MP Stoinis   \n",
       "765  1216547  2020/21      Dubai  2020-09-28     League  AB de Villiers   \n",
       "790  1216512  2020/21  Abu Dhabi  2020-10-18     League     LH Ferguson   \n",
       "791  1216517  2020/21      Dubai  2020-10-18     League        KL Rahul   \n",
       "835  1254077     2021    Chennai  2021-04-25     League         PP Shaw   \n",
       "\n",
       "                                         venue                        team1  \\\n",
       "66                                    Newlands        Kolkata Knight Riders   \n",
       "130            MA Chidambaram Stadium, Chepauk          Chennai Super Kings   \n",
       "328  Rajiv Gandhi International Stadium, Uppal          Sunrisers Hyderabad   \n",
       "342                      M Chinnaswamy Stadium  Royal Challengers Bangalore   \n",
       "416                       Sheikh Zayed Stadium        Kolkata Knight Riders   \n",
       "475               Sardar Patel Stadium, Motera             Rajasthan Royals   \n",
       "610     Saurashtra Cricket Association Stadium                Gujarat Lions   \n",
       "705                       Arun Jaitley Stadium        Kolkata Knight Riders   \n",
       "746                           Wankhede Stadium               Mumbai Indians   \n",
       "757        Dubai International Cricket Stadium               Delhi Capitals   \n",
       "765        Dubai International Cricket Stadium  Royal Challengers Bangalore   \n",
       "790                       Sheikh Zayed Stadium        Kolkata Knight Riders   \n",
       "791        Dubai International Cricket Stadium               Mumbai Indians   \n",
       "835   MA Chidambaram Stadium, Chepauk, Chennai               Delhi Capitals   \n",
       "\n",
       "                           team2                  toss_winner toss_decision  \\\n",
       "66              Rajasthan Royals        Kolkata Knight Riders         field   \n",
       "130              Kings XI Punjab          Chennai Super Kings         field   \n",
       "328  Royal Challengers Bangalore  Royal Challengers Bangalore           bat   \n",
       "342             Delhi Daredevils  Royal Challengers Bangalore         field   \n",
       "416             Rajasthan Royals             Rajasthan Royals           bat   \n",
       "475              Kings XI Punjab              Kings XI Punjab         field   \n",
       "610               Mumbai Indians                Gujarat Lions           bat   \n",
       "705               Delhi Capitals               Delhi Capitals         field   \n",
       "746          Sunrisers Hyderabad               Mumbai Indians           bat   \n",
       "757              Kings XI Punjab              Kings XI Punjab         field   \n",
       "765               Mumbai Indians               Mumbai Indians         field   \n",
       "790          Sunrisers Hyderabad          Sunrisers Hyderabad         field   \n",
       "791              Kings XI Punjab               Mumbai Indians           bat   \n",
       "835          Sunrisers Hyderabad               Delhi Capitals           bat   \n",
       "\n",
       "                          winner result  result_margin  target_runs  \\\n",
       "66              Rajasthan Royals    tie            NaN        151.0   \n",
       "130              Kings XI Punjab    tie            NaN        137.0   \n",
       "328          Sunrisers Hyderabad    tie            NaN        131.0   \n",
       "342  Royal Challengers Bangalore    tie            NaN        153.0   \n",
       "416             Rajasthan Royals    tie            NaN        153.0   \n",
       "475              Kings XI Punjab    tie            NaN        192.0   \n",
       "610               Mumbai Indians    tie            NaN        154.0   \n",
       "705               Delhi Capitals    tie            NaN        186.0   \n",
       "746               Mumbai Indians    tie            NaN        163.0   \n",
       "757               Delhi Capitals    tie            NaN        158.0   \n",
       "765  Royal Challengers Bangalore    tie            NaN        202.0   \n",
       "790        Kolkata Knight Riders    tie            NaN        164.0   \n",
       "791              Kings XI Punjab    tie            NaN        177.0   \n",
       "835               Delhi Capitals    tie            NaN        160.0   \n",
       "\n",
       "     target_overs super_over method       umpire1                umpire2  \n",
       "66           20.0          Y    NaN     MR Benson              M Erasmus  \n",
       "130          20.0          Y    NaN   K Hariharan              DJ Harper  \n",
       "328          20.0          Y    NaN  AK Chaudhary                 S Ravi  \n",
       "342          20.0          Y    NaN     M Erasmus            VA Kulkarni  \n",
       "416          20.0          Y    NaN     Aleem Dar           AK Chaudhary  \n",
       "475          20.0          Y    NaN     M Erasmus                 S Ravi  \n",
       "610          20.0          Y    NaN  AK Chaudhary            CB Gaffaney  \n",
       "705          20.0          Y    NaN   AY Dandekar            Nitin Menon  \n",
       "746          20.0          Y    NaN     CK Nandan                 S Ravi  \n",
       "757          20.0          Y    NaN  AK Chaudhary            Nitin Menon  \n",
       "765          20.0          Y    NaN   Nitin Menon             PR Reiffel  \n",
       "790          20.0          Y    NaN     PG Pathak                 S Ravi  \n",
       "791          20.0          Y    NaN   Nitin Menon             PR Reiffel  \n",
       "835          20.0          Y    NaN   CB Gaffaney  KN Ananthapadmanabhan  "
      ]
     },
     "execution_count": 38,
     "metadata": {},
     "output_type": "execute_result"
    }
   ],
   "source": [
    "matches.loc[matches.super_over=='Y']"
   ]
  },
  {
   "cell_type": "code",
   "execution_count": null,
   "id": "355a6e5d-ae7b-4022-a098-ae608faaacdd",
   "metadata": {},
   "outputs": [],
   "source": []
  }
 ],
 "metadata": {
  "kernelspec": {
   "display_name": "Python 3 (ipykernel)",
   "language": "python",
   "name": "python3"
  },
  "language_info": {
   "codemirror_mode": {
    "name": "ipython",
    "version": 3
   },
   "file_extension": ".py",
   "mimetype": "text/x-python",
   "name": "python",
   "nbconvert_exporter": "python",
   "pygments_lexer": "ipython3",
   "version": "3.12.4"
  }
 },
 "nbformat": 4,
 "nbformat_minor": 5
}
